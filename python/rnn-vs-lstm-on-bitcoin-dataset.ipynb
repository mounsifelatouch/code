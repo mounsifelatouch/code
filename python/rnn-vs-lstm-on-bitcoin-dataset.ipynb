{
 "cells": [
  {
   "cell_type": "markdown",
   "metadata": {
    "_uuid": "4092ec02cad1c1251d6a82cee9a2c7e7b689558c"
   },
   "source": [
    "**What is the differences between RNN & LSTM?**\n",
    "\n",
    "Before I tell you what is LSTM let me tell you about the biggest problem with RNNs. So far everything looks good about RNNs until we train it via back-propagation. As the gradient of our training samples gets propagated backward through our network, it gets weaker and weaker, by the time it gets to those neurons that represent older data points in our time-series it has no juice to adjust them properly. This problem is called Vanishing Gradient. A LSTM cell is a type of RNN which stores important information about the past and forgets the unimportant pieces. In this way, when gradient back-propagates, it won’t be consumed by unnecessary information."
   ]
  },
  {
   "cell_type": "markdown",
   "metadata": {},
   "source": [
    "<a href=\"https://ibb.co/rv1GT5D\"><img src=\"https://i.ibb.co/fQPYBrj/rnn-lstm.png\" alt=\"rnn-lstm\" border=\"0\"></a>"
   ]
  },
  {
   "cell_type": "markdown",
   "metadata": {
    "_uuid": "c855a92a8980bdb670c8342db36884b2effb11a1"
   },
   "source": [
    "*We will use our 50 data to predict 51th data. Also I will take first 200000 data*"
   ]
  },
  {
   "cell_type": "code",
   "execution_count": 1,
   "metadata": {
    "_cell_guid": "b1076dfc-b9ad-4769-8c92-a6c4dae69d19",
    "_uuid": "8f2839f25d086af736a60e9eeb907d3b93b6e0e5"
   },
   "outputs": [
    {
     "name": "stdout",
     "output_type": "stream",
     "text": [
      "['coinbaseUSD_1-min_data_2014-12-01_to_2019-01-09.csv', 'bitstampUSD_1-min_data_2012-01-01_to_2019-03-13.csv']\n"
     ]
    }
   ],
   "source": [
    "# This Python 3 environment comes with many helpful analytics libraries installed\n",
    "# It is defined by the kaggle/python docker image: https://github.com/kaggle/docker-python\n",
    "# For example, here's several helpful packages to load in \n",
    "\n",
    "import numpy as np # linear algebra\n",
    "import pandas as pd # data processing, CSV file I/O (e.g. pd.read_csv)\n",
    "import matplotlib.pyplot as plt\n",
    "\n",
    "# Input data files are available in the \"../input/\" directory.\n",
    "# For example, running this (by clicking run or pressing Shift+Enter) will list the files in the input directory\n",
    "import warnings\n",
    "warnings.filterwarnings(\"ignore\")\n",
    "\n",
    "\n",
    "import os\n",
    "print(os.listdir(\"../input\"))\n",
    "\n",
    "# Any results you write to the current directory are saved as output."
   ]
  },
  {
   "cell_type": "code",
   "execution_count": 2,
   "metadata": {
    "_cell_guid": "79c7e3d0-c299-4dcb-8224-4455121ee9b0",
    "_uuid": "d629ff2d2480ee46fbb7e2d37f6b5fab8052498a"
   },
   "outputs": [],
   "source": [
    "bit_data=pd.read_csv(\"../input/bitstampUSD_1-min_data_2012-01-01_to_2019-03-13.csv\")\n",
    "bit_data[\"date\"]=pd.to_datetime(bit_data[\"Timestamp\"],unit=\"s\").dt.date\n",
    "group=bit_data.groupby(\"date\")\n",
    "data=group[\"Close\"].mean()"
   ]
  },
  {
   "cell_type": "markdown",
   "metadata": {
    "_uuid": "fcb79be1ca66fff1bb9186622afafa3ff1976d76"
   },
   "source": [
    "What I did here? I added a colum which is \"date\" and I converted \"Timestamp\" columns to date form."
   ]
  },
  {
   "cell_type": "code",
   "execution_count": 3,
   "metadata": {
    "_uuid": "1a5deff671724737f5cf6563da1f9bcc383fea29"
   },
   "outputs": [
    {
     "data": {
      "text/plain": [
       "(2627,)"
      ]
     },
     "execution_count": 3,
     "metadata": {},
     "output_type": "execute_result"
    }
   ],
   "source": [
    "data.shape"
   ]
  },
  {
   "cell_type": "code",
   "execution_count": 4,
   "metadata": {
    "_uuid": "ef6c5d1afd2e2ad8f8db6502d6ab19dd5536f4df"
   },
   "outputs": [
    {
     "data": {
      "text/plain": [
       "0"
      ]
     },
     "execution_count": 4,
     "metadata": {},
     "output_type": "execute_result"
    }
   ],
   "source": [
    "data.isnull().sum()"
   ]
  },
  {
   "cell_type": "code",
   "execution_count": 5,
   "metadata": {
    "_uuid": "a33c39a4aa1e344c8fa50d2ca56961c37b0ebf65"
   },
   "outputs": [
    {
     "data": {
      "text/plain": [
       "date\n",
       "2011-12-31    4.482500\n",
       "2012-01-01    4.806667\n",
       "2012-01-02    5.000000\n",
       "2012-01-03    5.252500\n",
       "2012-01-04    5.223333\n",
       "Name: Close, dtype: float64"
      ]
     },
     "execution_count": 5,
     "metadata": {},
     "output_type": "execute_result"
    }
   ],
   "source": [
    "data.head()"
   ]
  },
  {
   "cell_type": "markdown",
   "metadata": {
    "_uuid": "05cc03451f03406b8c1138bee571ada74a1de08b"
   },
   "source": [
    "The goal is making a prediction of daily Close data. So we will predict \"close\" values of bitcoin data"
   ]
  },
  {
   "cell_type": "markdown",
   "metadata": {
    "_uuid": "34da6f362adbd1c072fa82e4b10818fa79f8f2cb"
   },
   "source": [
    "**First I will use RNN to predict our data**"
   ]
  },
  {
   "cell_type": "markdown",
   "metadata": {
    "_uuid": "a41a90996c44e924ec017ff19af7fe892a51ede0"
   },
   "source": [
    "I am separating last 50 rows as the test data."
   ]
  },
  {
   "cell_type": "code",
   "execution_count": 6,
   "metadata": {
    "_uuid": "757a234889f2a67e648db4273c4a4c4db74d803a"
   },
   "outputs": [],
   "source": [
    "close_train=data.iloc[:len(data)-50]\n",
    "close_test=data.iloc[len(close_train):]"
   ]
  },
  {
   "cell_type": "markdown",
   "metadata": {
    "_uuid": "73b47c588fa00f144c1a87c335d0babe45918a10"
   },
   "source": [
    "Here I will set our values between 0-1 in order to avoid domination of high values."
   ]
  },
  {
   "cell_type": "code",
   "execution_count": 7,
   "metadata": {
    "_uuid": "d30f46e2cdcaa483eb9bce041ba08a898cdd1533"
   },
   "outputs": [],
   "source": [
    "#feature scalling (set values between 0-1)\n",
    "close_train=np.array(close_train)\n",
    "close_train=close_train.reshape(close_train.shape[0],1)\n",
    "from sklearn.preprocessing import MinMaxScaler\n",
    "scaler=MinMaxScaler(feature_range=(0,1))\n",
    "close_scaled=scaler.fit_transform(close_train)"
   ]
  },
  {
   "cell_type": "markdown",
   "metadata": {
    "_uuid": "ac63ba26bca53cf1f5df75c31d3dc6268f27eaeb"
   },
   "source": [
    "Let's choose each 50 data as x-train and 51th as y-train"
   ]
  },
  {
   "cell_type": "code",
   "execution_count": 8,
   "metadata": {
    "_uuid": "7874ac0b39a80e5d013d4c9cdc19f59c93d0440a",
    "scrolled": true
   },
   "outputs": [
    {
     "name": "stdout",
     "output_type": "stream",
     "text": [
      "x_train shape=  (2527, 50, 1)\n",
      "y_train shape=  (2527,)\n"
     ]
    }
   ],
   "source": [
    "timestep=50\n",
    "x_train=[]\n",
    "y_train=[]\n",
    "\n",
    "for i in range(timestep,close_scaled.shape[0]):\n",
    "    x_train.append(close_scaled[i-timestep:i,0])\n",
    "    y_train.append(close_scaled[i,0])\n",
    "\n",
    "x_train,y_train=np.array(x_train),np.array(y_train)\n",
    "x_train=x_train.reshape(x_train.shape[0],x_train.shape[1],1) #reshaped for RNN\n",
    "print(\"x_train shape= \",x_train.shape)\n",
    "print(\"y_train shape= \",y_train.shape)"
   ]
  },
  {
   "cell_type": "markdown",
   "metadata": {
    "_uuid": "246a5606d4768110cd8c56ece1b93ff0d3c1a9fa"
   },
   "source": [
    "Time to prepare and run our RNN method"
   ]
  },
  {
   "cell_type": "code",
   "execution_count": 9,
   "metadata": {
    "_kg_hide-output": true,
    "_uuid": "95e9302fe14e8af6e55d3c32775ba8e266b839cd",
    "scrolled": false
   },
   "outputs": [
    {
     "name": "stderr",
     "output_type": "stream",
     "text": [
      "Using TensorFlow backend.\n"
     ]
    },
    {
     "name": "stdout",
     "output_type": "stream",
     "text": [
      "Epoch 1/100\n",
      "2527/2527 [==============================] - 9s 4ms/step - loss: 0.0080\n",
      "Epoch 2/100\n",
      "2527/2527 [==============================] - 5s 2ms/step - loss: 0.0022\n",
      "Epoch 3/100\n",
      "2527/2527 [==============================] - 5s 2ms/step - loss: 0.0017\n",
      "Epoch 4/100\n",
      "2527/2527 [==============================] - 5s 2ms/step - loss: 0.0014\n",
      "Epoch 5/100\n",
      "2527/2527 [==============================] - 5s 2ms/step - loss: 0.0019\n",
      "Epoch 6/100\n",
      "2527/2527 [==============================] - 5s 2ms/step - loss: 0.0012\n",
      "Epoch 7/100\n",
      "2527/2527 [==============================] - 5s 2ms/step - loss: 8.1828e-04\n",
      "Epoch 8/100\n",
      "2527/2527 [==============================] - 5s 2ms/step - loss: 9.0356e-04\n",
      "Epoch 9/100\n",
      "2527/2527 [==============================] - 5s 2ms/step - loss: 0.0010\n",
      "Epoch 10/100\n",
      "2527/2527 [==============================] - 5s 2ms/step - loss: 0.0015\n",
      "Epoch 11/100\n",
      "2527/2527 [==============================] - 5s 2ms/step - loss: 7.5729e-04\n",
      "Epoch 12/100\n",
      "2527/2527 [==============================] - 5s 2ms/step - loss: 6.9176e-04\n",
      "Epoch 13/100\n",
      "2527/2527 [==============================] - 5s 2ms/step - loss: 7.1007e-04\n",
      "Epoch 14/100\n",
      "2527/2527 [==============================] - 5s 2ms/step - loss: 7.3291e-04\n",
      "Epoch 15/100\n",
      "2527/2527 [==============================] - 5s 2ms/step - loss: 8.2667e-04\n",
      "Epoch 16/100\n",
      "2527/2527 [==============================] - 5s 2ms/step - loss: 8.9043e-04\n",
      "Epoch 17/100\n",
      "2527/2527 [==============================] - 5s 2ms/step - loss: 7.0595e-04\n",
      "Epoch 18/100\n",
      "2527/2527 [==============================] - 5s 2ms/step - loss: 5.7089e-04\n",
      "Epoch 19/100\n",
      "2527/2527 [==============================] - 5s 2ms/step - loss: 5.9873e-04\n",
      "Epoch 20/100\n",
      "2527/2527 [==============================] - 5s 2ms/step - loss: 5.5555e-04\n",
      "Epoch 21/100\n",
      "2527/2527 [==============================] - 5s 2ms/step - loss: 6.2245e-04\n",
      "Epoch 22/100\n",
      "2527/2527 [==============================] - 5s 2ms/step - loss: 4.4547e-04\n",
      "Epoch 23/100\n",
      "2527/2527 [==============================] - 5s 2ms/step - loss: 4.5149e-04\n",
      "Epoch 24/100\n",
      "2527/2527 [==============================] - 5s 2ms/step - loss: 5.0860e-04\n",
      "Epoch 25/100\n",
      "2527/2527 [==============================] - 5s 2ms/step - loss: 5.7038e-04\n",
      "Epoch 26/100\n",
      "2527/2527 [==============================] - 5s 2ms/step - loss: 5.1924e-04\n",
      "Epoch 27/100\n",
      "2527/2527 [==============================] - 5s 2ms/step - loss: 5.5226e-04\n",
      "Epoch 28/100\n",
      "2527/2527 [==============================] - 5s 2ms/step - loss: 5.2510e-04\n",
      "Epoch 29/100\n",
      "2527/2527 [==============================] - 5s 2ms/step - loss: 3.7853e-04\n",
      "Epoch 30/100\n",
      "2527/2527 [==============================] - 5s 2ms/step - loss: 5.7844e-04\n",
      "Epoch 31/100\n",
      "2527/2527 [==============================] - 5s 2ms/step - loss: 4.1356e-04\n",
      "Epoch 32/100\n",
      "2527/2527 [==============================] - 5s 2ms/step - loss: 4.9521e-04\n",
      "Epoch 33/100\n",
      "2527/2527 [==============================] - 5s 2ms/step - loss: 5.6402e-04\n",
      "Epoch 34/100\n",
      "2527/2527 [==============================] - 5s 2ms/step - loss: 4.3982e-04\n",
      "Epoch 35/100\n",
      "2527/2527 [==============================] - 5s 2ms/step - loss: 4.9266e-04\n",
      "Epoch 36/100\n",
      "2527/2527 [==============================] - 5s 2ms/step - loss: 3.8576e-04\n",
      "Epoch 37/100\n",
      "2527/2527 [==============================] - 5s 2ms/step - loss: 5.3687e-04\n",
      "Epoch 38/100\n",
      "2527/2527 [==============================] - 5s 2ms/step - loss: 5.6736e-04\n",
      "Epoch 39/100\n",
      "2527/2527 [==============================] - 5s 2ms/step - loss: 4.1498e-04\n",
      "Epoch 40/100\n",
      "2527/2527 [==============================] - 5s 2ms/step - loss: 3.9821e-04\n",
      "Epoch 41/100\n",
      "2527/2527 [==============================] - 5s 2ms/step - loss: 5.2098e-04\n",
      "Epoch 42/100\n",
      "2527/2527 [==============================] - 5s 2ms/step - loss: 5.8590e-04\n",
      "Epoch 43/100\n",
      "2527/2527 [==============================] - 5s 2ms/step - loss: 3.8897e-04\n",
      "Epoch 44/100\n",
      "2527/2527 [==============================] - 5s 2ms/step - loss: 3.6367e-04\n",
      "Epoch 45/100\n",
      "2527/2527 [==============================] - 5s 2ms/step - loss: 4.1675e-04\n",
      "Epoch 46/100\n",
      "2527/2527 [==============================] - 5s 2ms/step - loss: 3.9577e-04\n",
      "Epoch 47/100\n",
      "2527/2527 [==============================] - 5s 2ms/step - loss: 4.7659e-04\n",
      "Epoch 48/100\n",
      "2527/2527 [==============================] - 5s 2ms/step - loss: 3.4722e-04\n",
      "Epoch 49/100\n",
      "2527/2527 [==============================] - 5s 2ms/step - loss: 3.4614e-04\n",
      "Epoch 50/100\n",
      "2527/2527 [==============================] - 5s 2ms/step - loss: 4.0766e-04\n",
      "Epoch 51/100\n",
      "2527/2527 [==============================] - 5s 2ms/step - loss: 3.3143e-04\n",
      "Epoch 52/100\n",
      "2527/2527 [==============================] - 5s 2ms/step - loss: 3.2698e-04\n",
      "Epoch 53/100\n",
      "2527/2527 [==============================] - 5s 2ms/step - loss: 4.5695e-04\n",
      "Epoch 54/100\n",
      "2527/2527 [==============================] - 5s 2ms/step - loss: 3.2415e-04\n",
      "Epoch 55/100\n",
      "2527/2527 [==============================] - 5s 2ms/step - loss: 3.8367e-04\n",
      "Epoch 56/100\n",
      "2527/2527 [==============================] - 5s 2ms/step - loss: 3.5527e-04\n",
      "Epoch 57/100\n",
      "2527/2527 [==============================] - 5s 2ms/step - loss: 4.6711e-04\n",
      "Epoch 58/100\n",
      "2527/2527 [==============================] - 5s 2ms/step - loss: 2.9646e-04\n",
      "Epoch 59/100\n",
      "2527/2527 [==============================] - 5s 2ms/step - loss: 3.5332e-04\n",
      "Epoch 60/100\n",
      "2527/2527 [==============================] - 5s 2ms/step - loss: 3.8651e-04\n",
      "Epoch 61/100\n",
      "2527/2527 [==============================] - 5s 2ms/step - loss: 3.2340e-04\n",
      "Epoch 62/100\n",
      "2527/2527 [==============================] - 5s 2ms/step - loss: 2.9445e-04\n",
      "Epoch 63/100\n",
      "2527/2527 [==============================] - 5s 2ms/step - loss: 4.7226e-04\n",
      "Epoch 64/100\n",
      "2527/2527 [==============================] - 5s 2ms/step - loss: 4.0322e-04\n",
      "Epoch 65/100\n",
      "2527/2527 [==============================] - 5s 2ms/step - loss: 3.4397e-04\n",
      "Epoch 66/100\n",
      "2527/2527 [==============================] - 5s 2ms/step - loss: 4.0037e-04\n",
      "Epoch 67/100\n",
      "2527/2527 [==============================] - 5s 2ms/step - loss: 3.4337e-04\n",
      "Epoch 68/100\n",
      "2527/2527 [==============================] - 5s 2ms/step - loss: 3.6746e-04\n",
      "Epoch 69/100\n",
      "2527/2527 [==============================] - 5s 2ms/step - loss: 3.1372e-04\n",
      "Epoch 70/100\n",
      "2527/2527 [==============================] - 5s 2ms/step - loss: 2.6816e-04\n",
      "Epoch 71/100\n",
      "2527/2527 [==============================] - 5s 2ms/step - loss: 3.6469e-04\n",
      "Epoch 72/100\n",
      "2527/2527 [==============================] - 5s 2ms/step - loss: 3.5015e-04\n",
      "Epoch 73/100\n",
      "2527/2527 [==============================] - 5s 2ms/step - loss: 4.0935e-04\n",
      "Epoch 74/100\n",
      "2527/2527 [==============================] - 5s 2ms/step - loss: 2.5736e-04\n",
      "Epoch 75/100\n",
      "2527/2527 [==============================] - 5s 2ms/step - loss: 2.8525e-04\n",
      "Epoch 76/100\n",
      "2527/2527 [==============================] - 5s 2ms/step - loss: 3.1203e-04\n",
      "Epoch 77/100\n",
      "2527/2527 [==============================] - 5s 2ms/step - loss: 3.4964e-04\n",
      "Epoch 78/100\n",
      "2527/2527 [==============================] - 5s 2ms/step - loss: 3.0993e-04\n",
      "Epoch 79/100\n",
      "2527/2527 [==============================] - 5s 2ms/step - loss: 3.1841e-04\n",
      "Epoch 80/100\n",
      "2527/2527 [==============================] - 5s 2ms/step - loss: 2.3148e-04\n",
      "Epoch 81/100\n",
      "2527/2527 [==============================] - 5s 2ms/step - loss: 3.2210e-04\n",
      "Epoch 82/100\n",
      "2527/2527 [==============================] - 5s 2ms/step - loss: 3.0532e-04\n",
      "Epoch 83/100\n",
      "2527/2527 [==============================] - 5s 2ms/step - loss: 3.4247e-04\n",
      "Epoch 84/100\n",
      "2527/2527 [==============================] - 5s 2ms/step - loss: 3.4468e-04\n",
      "Epoch 85/100\n",
      "2527/2527 [==============================] - 5s 2ms/step - loss: 3.5532e-04\n",
      "Epoch 86/100\n",
      "2527/2527 [==============================] - 5s 2ms/step - loss: 4.2596e-04\n",
      "Epoch 87/100\n",
      "2527/2527 [==============================] - 5s 2ms/step - loss: 3.2376e-04\n",
      "Epoch 88/100\n",
      "2527/2527 [==============================] - 5s 2ms/step - loss: 3.9672e-04\n",
      "Epoch 89/100\n",
      "2527/2527 [==============================] - 5s 2ms/step - loss: 3.0861e-04\n",
      "Epoch 90/100\n",
      "2527/2527 [==============================] - 5s 2ms/step - loss: 3.6380e-04\n",
      "Epoch 91/100\n",
      "2527/2527 [==============================] - 5s 2ms/step - loss: 3.2233e-04\n",
      "Epoch 92/100\n",
      "2527/2527 [==============================] - 5s 2ms/step - loss: 3.2658e-04\n",
      "Epoch 93/100\n",
      "2527/2527 [==============================] - 5s 2ms/step - loss: 3.2731e-04\n",
      "Epoch 94/100\n",
      "2527/2527 [==============================] - 5s 2ms/step - loss: 2.7621e-04\n",
      "Epoch 95/100\n",
      "2527/2527 [==============================] - 5s 2ms/step - loss: 3.6732e-04\n",
      "Epoch 96/100\n",
      "2527/2527 [==============================] - 5s 2ms/step - loss: 3.4242e-04\n",
      "Epoch 97/100\n",
      "2527/2527 [==============================] - 5s 2ms/step - loss: 2.6734e-04\n",
      "Epoch 98/100\n",
      "2527/2527 [==============================] - 5s 2ms/step - loss: 3.4314e-04\n",
      "Epoch 99/100\n",
      "2527/2527 [==============================] - 5s 2ms/step - loss: 2.6000e-04\n",
      "Epoch 100/100\n",
      "2527/2527 [==============================] - 5s 2ms/step - loss: 2.8061e-04\n"
     ]
    },
    {
     "data": {
      "text/plain": [
       "<keras.callbacks.History at 0x7f1bb204b5c0>"
      ]
     },
     "execution_count": 9,
     "metadata": {},
     "output_type": "execute_result"
    }
   ],
   "source": [
    "from keras.models import Sequential\n",
    "from keras.layers import Dense, SimpleRNN, Dropout,Flatten\n",
    "\n",
    "regressor=Sequential()\n",
    "#first RNN layer\n",
    "regressor.add(SimpleRNN(128,activation=\"relu\",return_sequences=True,input_shape=(x_train.shape[1],1)))\n",
    "regressor.add(Dropout(0.25))\n",
    "#second RNN layer\n",
    "regressor.add(SimpleRNN(256,activation=\"relu\",return_sequences=True))\n",
    "regressor.add(Dropout(0.25))\n",
    "#third RNN layer\n",
    "regressor.add(SimpleRNN(512,activation=\"relu\",return_sequences=True))\n",
    "regressor.add(Dropout(0.35))\n",
    "#fourth RNN layer\n",
    "regressor.add(SimpleRNN(256,activation=\"relu\",return_sequences=True))\n",
    "regressor.add(Dropout(0.25))\n",
    "#fifth RNN layer\n",
    "regressor.add(SimpleRNN(128,activation=\"relu\",return_sequences=True))\n",
    "regressor.add(Dropout(0.25))\n",
    "#convert the matrix to 1-line\n",
    "regressor.add(Flatten())\n",
    "#output layer\n",
    "regressor.add(Dense(1))\n",
    "\n",
    "regressor.compile(optimizer=\"adam\",loss=\"mean_squared_error\")\n",
    "regressor.fit(x_train,y_train,epochs=100,batch_size=64)"
   ]
  },
  {
   "cell_type": "markdown",
   "metadata": {
    "_uuid": "0d1786f25bf66d0e666d23252377b5bff9196a70"
   },
   "source": [
    "Now we are preparing our test data for prediction"
   ]
  },
  {
   "cell_type": "code",
   "execution_count": 10,
   "metadata": {
    "_uuid": "789694f60ef54c6fe588978c7917c05f140f501e"
   },
   "outputs": [],
   "source": [
    "inputs=data[len(data)-len(close_test)-timestep:]\n",
    "inputs=inputs.values.reshape(-1,1)\n",
    "inputs=scaler.transform(inputs)"
   ]
  },
  {
   "cell_type": "code",
   "execution_count": 11,
   "metadata": {
    "_uuid": "b64f25de4f2c3d3e97ff67430e63b730808fb29b"
   },
   "outputs": [],
   "source": [
    "x_test=[]\n",
    "for i in range(timestep,inputs.shape[0]):\n",
    "    x_test.append(inputs[i-timestep:i,0])\n",
    "x_test=np.array(x_test)\n",
    "x_test=x_test.reshape(x_test.shape[0],x_test.shape[1],1)"
   ]
  },
  {
   "cell_type": "code",
   "execution_count": 12,
   "metadata": {
    "_uuid": "ab9b3f5f19e8cdb8b6fa1be54e710fba4b4281dd"
   },
   "outputs": [],
   "source": [
    "predicted_data=regressor.predict(x_test)\n",
    "predicted_data=scaler.inverse_transform(predicted_data)"
   ]
  },
  {
   "cell_type": "markdown",
   "metadata": {
    "_uuid": "84126a12f90fb2bea6a543dfea7c9225216bca32"
   },
   "source": [
    "**What did we do???? We learnt our model with train data and then we tried to predict next 50 data (train data=50). Then we compared predictions with our test (real) data.**"
   ]
  },
  {
   "cell_type": "code",
   "execution_count": 13,
   "metadata": {
    "_uuid": "e37a1a9195ba81668ee00aa47b98bda8a2e549c2"
   },
   "outputs": [],
   "source": [
    "data_test=np.array(close_test)\n",
    "data_test=data_test.reshape(len(data_test),1)"
   ]
  },
  {
   "cell_type": "code",
   "execution_count": 14,
   "metadata": {
    "_uuid": "d14bd8d6dc5dea3a2cd0b807652f41d9a34a28d1",
    "scrolled": true
   },
   "outputs": [
    {
     "data": {
      "image/png": "[encoded data removed]",
      "text/plain": [
       "<Figure size 640x320 with 1 Axes>"
      ]
     },
     "metadata": {},
     "output_type": "display_data"
    }
   ],
   "source": [
    "plt.figure(figsize=(8,4), dpi=80, facecolor='w', edgecolor='k')\n",
    "plt.plot(data_test,color=\"r\",label=\"true result\")\n",
    "plt.plot(predicted_data,color=\"b\",label=\"predicted result\")\n",
    "plt.legend()\n",
    "plt.xlabel(\"Time(50 days)\")\n",
    "plt.ylabel(\"Close Values\")\n",
    "plt.grid(True)\n",
    "plt.show()"
   ]
  },
  {
   "cell_type": "markdown",
   "metadata": {
    "_uuid": "d6a9163de2304f9bceb4e4d3337ae7347a1c1144"
   },
   "source": [
    "Here we have the results of our prediction. As we can see on the chart that with RNN method we don't have a good result. So let's check LSTM method, then we can compare both results."
   ]
  },
  {
   "cell_type": "markdown",
   "metadata": {
    "_uuid": "a86a7a09336182de5b84b8fd747c47216090f712"
   },
   "source": [
    "**Keep going with LSTM method**"
   ]
  },
  {
   "cell_type": "markdown",
   "metadata": {
    "_uuid": "6fbf6c5708d1ffba850644a767a33192fdd2cdd7"
   },
   "source": [
    "I will use the same train and test data"
   ]
  },
  {
   "cell_type": "code",
   "execution_count": 15,
   "metadata": {
    "_kg_hide-output": true,
    "_uuid": "6b20a92dc41d1e62aaea366a4d0c96afe0dab1e3",
    "scrolled": false
   },
   "outputs": [
    {
     "name": "stdout",
     "output_type": "stream",
     "text": [
      "Epoch 1/100\n",
      "2527/2527 [==============================] - 5s 2ms/step - loss: 0.0273\n",
      "Epoch 2/100\n",
      "2527/2527 [==============================] - 4s 2ms/step - loss: 0.0080\n",
      "Epoch 3/100\n",
      "2527/2527 [==============================] - 4s 2ms/step - loss: 4.8358e-04\n",
      "Epoch 4/100\n",
      "2527/2527 [==============================] - 4s 2ms/step - loss: 4.2703e-04\n",
      "Epoch 5/100\n",
      "2527/2527 [==============================] - 4s 2ms/step - loss: 3.3468e-04\n",
      "Epoch 6/100\n",
      "2527/2527 [==============================] - 4s 2ms/step - loss: 3.2717e-04\n",
      "Epoch 7/100\n",
      "2527/2527 [==============================] - 4s 2ms/step - loss: 2.9219e-04\n",
      "Epoch 8/100\n",
      "2527/2527 [==============================] - 4s 2ms/step - loss: 2.7433e-04\n",
      "Epoch 9/100\n",
      "2527/2527 [==============================] - 4s 2ms/step - loss: 2.5810e-04\n",
      "Epoch 10/100\n",
      "2527/2527 [==============================] - 4s 2ms/step - loss: 2.4953e-04\n",
      "Epoch 11/100\n",
      "2527/2527 [==============================] - 4s 2ms/step - loss: 2.3934e-04\n",
      "Epoch 12/100\n",
      "2527/2527 [==============================] - 4s 2ms/step - loss: 2.3773e-04\n",
      "Epoch 13/100\n",
      "2527/2527 [==============================] - 4s 2ms/step - loss: 2.3809e-04\n",
      "Epoch 14/100\n",
      "2527/2527 [==============================] - 4s 2ms/step - loss: 2.1942e-04\n",
      "Epoch 15/100\n",
      "2527/2527 [==============================] - 4s 2ms/step - loss: 2.1187e-04\n",
      "Epoch 16/100\n",
      "2527/2527 [==============================] - 4s 2ms/step - loss: 2.1472e-04\n",
      "Epoch 17/100\n",
      "2527/2527 [==============================] - 4s 2ms/step - loss: 2.0396e-04\n",
      "Epoch 18/100\n",
      "2527/2527 [==============================] - 4s 2ms/step - loss: 1.9815e-04\n",
      "Epoch 19/100\n",
      "2527/2527 [==============================] - 4s 2ms/step - loss: 1.9962e-04\n",
      "Epoch 20/100\n",
      "2527/2527 [==============================] - 4s 2ms/step - loss: 2.0016e-04\n",
      "Epoch 21/100\n",
      "2527/2527 [==============================] - 4s 2ms/step - loss: 1.9127e-04\n",
      "Epoch 22/100\n",
      "2527/2527 [==============================] - 4s 2ms/step - loss: 1.8314e-04\n",
      "Epoch 23/100\n",
      "2527/2527 [==============================] - 4s 2ms/step - loss: 1.8837e-04\n",
      "Epoch 24/100\n",
      "2527/2527 [==============================] - 4s 2ms/step - loss: 1.7642e-04\n",
      "Epoch 25/100\n",
      "2527/2527 [==============================] - 4s 2ms/step - loss: 1.7885e-04\n",
      "Epoch 26/100\n",
      "2527/2527 [==============================] - 4s 2ms/step - loss: 1.6877e-04\n",
      "Epoch 27/100\n",
      "2527/2527 [==============================] - 4s 2ms/step - loss: 1.7226e-04\n",
      "Epoch 28/100\n",
      "2527/2527 [==============================] - 4s 2ms/step - loss: 1.6717e-04\n",
      "Epoch 29/100\n",
      "2527/2527 [==============================] - 4s 2ms/step - loss: 1.6767e-04\n",
      "Epoch 30/100\n",
      "2527/2527 [==============================] - 4s 2ms/step - loss: 1.6711e-04\n",
      "Epoch 31/100\n",
      "2527/2527 [==============================] - 4s 2ms/step - loss: 1.6106e-04\n",
      "Epoch 32/100\n",
      "2527/2527 [==============================] - 4s 2ms/step - loss: 1.6913e-04\n",
      "Epoch 33/100\n",
      "2527/2527 [==============================] - 4s 2ms/step - loss: 1.6134e-04\n",
      "Epoch 34/100\n",
      "2527/2527 [==============================] - 4s 2ms/step - loss: 1.5939e-04\n",
      "Epoch 35/100\n",
      "2527/2527 [==============================] - 4s 2ms/step - loss: 1.5529e-04\n",
      "Epoch 36/100\n",
      "2527/2527 [==============================] - 4s 2ms/step - loss: 1.5304e-04\n",
      "Epoch 37/100\n",
      "2527/2527 [==============================] - 4s 2ms/step - loss: 1.5588e-04\n",
      "Epoch 38/100\n",
      "2527/2527 [==============================] - 4s 2ms/step - loss: 1.5421e-04\n",
      "Epoch 39/100\n",
      "2527/2527 [==============================] - 4s 2ms/step - loss: 1.4833e-04\n",
      "Epoch 40/100\n",
      "2527/2527 [==============================] - 4s 2ms/step - loss: 1.4997e-04\n",
      "Epoch 41/100\n",
      "2527/2527 [==============================] - 4s 2ms/step - loss: 1.4749e-04\n",
      "Epoch 42/100\n",
      "2527/2527 [==============================] - 4s 2ms/step - loss: 1.4032e-04\n",
      "Epoch 43/100\n",
      "2527/2527 [==============================] - 4s 2ms/step - loss: 1.5227e-04\n",
      "Epoch 44/100\n",
      "2527/2527 [==============================] - 4s 2ms/step - loss: 1.4048e-04\n",
      "Epoch 45/100\n",
      "2527/2527 [==============================] - 4s 2ms/step - loss: 1.4183e-04\n",
      "Epoch 46/100\n",
      "2527/2527 [==============================] - 4s 2ms/step - loss: 1.3537e-04\n",
      "Epoch 47/100\n",
      "2527/2527 [==============================] - 4s 2ms/step - loss: 1.3671e-04\n",
      "Epoch 48/100\n",
      "2527/2527 [==============================] - 4s 2ms/step - loss: 1.3914e-04\n",
      "Epoch 49/100\n",
      "2527/2527 [==============================] - 4s 2ms/step - loss: 1.3813e-04\n",
      "Epoch 50/100\n",
      "2527/2527 [==============================] - 4s 2ms/step - loss: 1.3287e-04\n",
      "Epoch 51/100\n",
      "2527/2527 [==============================] - 4s 2ms/step - loss: 1.4221e-04\n",
      "Epoch 52/100\n",
      "2527/2527 [==============================] - 4s 2ms/step - loss: 1.3258e-04\n",
      "Epoch 53/100\n",
      "2527/2527 [==============================] - 4s 2ms/step - loss: 1.3306e-04\n",
      "Epoch 54/100\n",
      "2527/2527 [==============================] - 4s 2ms/step - loss: 1.2887e-04\n",
      "Epoch 55/100\n",
      "2527/2527 [==============================] - 4s 2ms/step - loss: 1.3064e-04\n",
      "Epoch 56/100\n",
      "2527/2527 [==============================] - 4s 2ms/step - loss: 1.2875e-04\n",
      "Epoch 57/100\n",
      "2527/2527 [==============================] - 4s 2ms/step - loss: 1.2690e-04\n",
      "Epoch 58/100\n",
      "2527/2527 [==============================] - 4s 2ms/step - loss: 1.2671e-04\n",
      "Epoch 59/100\n",
      "2527/2527 [==============================] - 4s 2ms/step - loss: 1.2933e-04\n",
      "Epoch 60/100\n",
      "2527/2527 [==============================] - 4s 2ms/step - loss: 1.2636e-04\n",
      "Epoch 61/100\n",
      "2527/2527 [==============================] - 4s 2ms/step - loss: 1.2562e-04\n",
      "Epoch 62/100\n",
      "2527/2527 [==============================] - 4s 2ms/step - loss: 1.2438e-04\n",
      "Epoch 63/100\n",
      "2527/2527 [==============================] - 4s 2ms/step - loss: 1.3469e-04\n",
      "Epoch 64/100\n",
      "2527/2527 [==============================] - 4s 2ms/step - loss: 1.2156e-04\n",
      "Epoch 65/100\n",
      "2527/2527 [==============================] - 4s 2ms/step - loss: 1.2473e-04\n",
      "Epoch 66/100\n",
      "2527/2527 [==============================] - 4s 2ms/step - loss: 1.2519e-04\n",
      "Epoch 67/100\n",
      "2527/2527 [==============================] - 5s 2ms/step - loss: 1.2584e-04\n",
      "Epoch 68/100\n",
      "2527/2527 [==============================] - 4s 2ms/step - loss: 1.1441e-04\n",
      "Epoch 69/100\n",
      "2527/2527 [==============================] - 4s 2ms/step - loss: 1.1771e-04\n",
      "Epoch 70/100\n",
      "2527/2527 [==============================] - 4s 2ms/step - loss: 1.2349e-04\n",
      "Epoch 71/100\n",
      "2527/2527 [==============================] - 4s 2ms/step - loss: 1.1327e-04\n",
      "Epoch 72/100\n",
      "2527/2527 [==============================] - 4s 2ms/step - loss: 1.1490e-04\n",
      "Epoch 73/100\n",
      "2527/2527 [==============================] - 4s 2ms/step - loss: 1.1610e-04\n",
      "Epoch 74/100\n",
      "2527/2527 [==============================] - 4s 2ms/step - loss: 1.1941e-04\n",
      "Epoch 75/100\n",
      "2527/2527 [==============================] - 4s 2ms/step - loss: 1.1849e-04\n",
      "Epoch 76/100\n",
      "2527/2527 [==============================] - 4s 2ms/step - loss: 1.1915e-04\n",
      "Epoch 77/100\n",
      "2527/2527 [==============================] - 4s 2ms/step - loss: 1.0940e-04\n",
      "Epoch 78/100\n",
      "2527/2527 [==============================] - 4s 2ms/step - loss: 1.1010e-04\n",
      "Epoch 79/100\n",
      "2527/2527 [==============================] - 4s 2ms/step - loss: 1.1482e-04\n",
      "Epoch 80/100\n",
      "2527/2527 [==============================] - 4s 2ms/step - loss: 1.0631e-04\n",
      "Epoch 81/100\n",
      "2527/2527 [==============================] - 4s 2ms/step - loss: 1.0804e-04\n",
      "Epoch 82/100\n",
      "2527/2527 [==============================] - 4s 2ms/step - loss: 1.1174e-04\n",
      "Epoch 83/100\n",
      "2527/2527 [==============================] - 4s 2ms/step - loss: 1.1315e-04\n",
      "Epoch 84/100\n",
      "2527/2527 [==============================] - 4s 2ms/step - loss: 1.0544e-04\n",
      "Epoch 85/100\n",
      "2527/2527 [==============================] - 4s 2ms/step - loss: 1.1875e-04\n",
      "Epoch 86/100\n",
      "2527/2527 [==============================] - 4s 2ms/step - loss: 1.0945e-04\n",
      "Epoch 87/100\n",
      "2527/2527 [==============================] - 4s 2ms/step - loss: 1.0928e-04\n",
      "Epoch 88/100\n",
      "2527/2527 [==============================] - 4s 2ms/step - loss: 1.1171e-04\n",
      "Epoch 89/100\n",
      "2527/2527 [==============================] - 4s 2ms/step - loss: 1.0529e-04\n",
      "Epoch 90/100\n",
      "2527/2527 [==============================] - 4s 2ms/step - loss: 1.0426e-04\n",
      "Epoch 91/100\n",
      "2527/2527 [==============================] - 4s 2ms/step - loss: 1.0524e-04\n",
      "Epoch 92/100\n",
      "2527/2527 [==============================] - 4s 2ms/step - loss: 1.0687e-04\n",
      "Epoch 93/100\n",
      "2527/2527 [==============================] - 4s 2ms/step - loss: 1.0489e-04\n",
      "Epoch 94/100\n",
      "2527/2527 [==============================] - 4s 2ms/step - loss: 1.1048e-04\n",
      "Epoch 95/100\n",
      "2527/2527 [==============================] - 4s 2ms/step - loss: 1.0193e-04\n",
      "Epoch 96/100\n",
      "2527/2527 [==============================] - 4s 2ms/step - loss: 1.0126e-04\n",
      "Epoch 97/100\n",
      "2527/2527 [==============================] - 4s 2ms/step - loss: 9.8795e-05\n",
      "Epoch 98/100\n",
      "2527/2527 [==============================] - 4s 2ms/step - loss: 1.0409e-04\n",
      "Epoch 99/100\n",
      "2527/2527 [==============================] - 4s 2ms/step - loss: 1.0648e-04\n",
      "Epoch 100/100\n",
      "2527/2527 [==============================] - 4s 2ms/step - loss: 1.0020e-04\n"
     ]
    },
    {
     "data": {
      "text/plain": [
       "<keras.callbacks.History at 0x7f1b601d3d30>"
      ]
     },
     "execution_count": 15,
     "metadata": {},
     "output_type": "execute_result"
    }
   ],
   "source": [
    "from sklearn.metrics import mean_absolute_error\n",
    "from keras.models import Sequential\n",
    "from keras.layers import Dense, LSTM, Dropout,Flatten\n",
    "\n",
    "model=Sequential()\n",
    "\n",
    "model.add(LSTM(10,input_shape=(None,1),activation=\"relu\"))\n",
    "\n",
    "model.add(Dense(1))\n",
    "\n",
    "model.compile(loss=\"mean_squared_error\",optimizer=\"adam\")\n",
    "\n",
    "model.fit(x_train,y_train,epochs=100,batch_size=32)"
   ]
  },
  {
   "cell_type": "markdown",
   "metadata": {
    "_uuid": "add16d8c9ba53ae8abccfb8e46f33c6586e0ca65"
   },
   "source": [
    "Keep going with test data"
   ]
  },
  {
   "cell_type": "code",
   "execution_count": 16,
   "metadata": {
    "_uuid": "3565fca8454345628ef64e3c04478463fca1ff74"
   },
   "outputs": [],
   "source": [
    "inputs=data[len(data)-len(close_test)-timestep:]\n",
    "inputs=inputs.values.reshape(-1,1)\n",
    "inputs=scaler.transform(inputs)"
   ]
  },
  {
   "cell_type": "code",
   "execution_count": 17,
   "metadata": {
    "_uuid": "46cde05f13fb1ca04c2d0c980d1644d975dd3870"
   },
   "outputs": [],
   "source": [
    "x_test=[]\n",
    "for i in range(timestep,inputs.shape[0]):\n",
    "    x_test.append(inputs[i-timestep:i,0])\n",
    "x_test=np.array(x_test)\n",
    "x_test=x_test.reshape(x_test.shape[0],x_test.shape[1],1)"
   ]
  },
  {
   "cell_type": "markdown",
   "metadata": {
    "_uuid": "62794ffaa6a6b6bc64232424c03436edbb7b6825"
   },
   "source": [
    "it's time to predict"
   ]
  },
  {
   "cell_type": "code",
   "execution_count": 18,
   "metadata": {
    "_uuid": "a837c6f9642fba4332ec63e89f99d2a876f6ea3f"
   },
   "outputs": [],
   "source": [
    "predicted_data=model.predict(x_test)\n",
    "predicted_data=scaler.inverse_transform(predicted_data)"
   ]
  },
  {
   "cell_type": "code",
   "execution_count": 19,
   "metadata": {
    "_uuid": "7111f36c85adace9f4d965d6dbe9fc4cf344139b"
   },
   "outputs": [],
   "source": [
    "data_test=np.array(close_test)\n",
    "data_test=data_test.reshape(len(data_test),1)"
   ]
  },
  {
   "cell_type": "code",
   "execution_count": 20,
   "metadata": {
    "_uuid": "fa7d96f41874e8d3207f30ddb50e0b9c658e759a"
   },
   "outputs": [
    {
     "data": {
      "image/png": "[encoded data removed]",
      "text/plain": [
       "<Figure size 640x320 with 1 Axes>"
      ]
     },
     "metadata": {},
     "output_type": "display_data"
    }
   ],
   "source": [
    "plt.figure(figsize=(8,4), dpi=80, facecolor='w', edgecolor='k')\n",
    "plt.plot(data_test,color=\"r\",label=\"true result\")\n",
    "plt.plot(predicted_data,color=\"b\",label=\"predicted result\")\n",
    "plt.legend()\n",
    "plt.xlabel(\"Time(50 days)\")\n",
    "plt.ylabel(\"Close Values\")\n",
    "plt.grid(True)\n",
    "plt.show()"
   ]
  },
  {
   "cell_type": "markdown",
   "metadata": {
    "_uuid": "76aa7f58212d6a4f3453f33eea23c4fbec6f4c42"
   },
   "source": [
    "* ** Conclusion**\n",
    "\n",
    "When we compare the both results (RNN and LSTM) we can see that we have better prediction with LSTM. \n",
    "\n",
    "Up to here I was trying to show the differences between RNN - LSTM and how to use these methods on time series. \n",
    "\n",
    "If you have any question or I have any error please write me dirctly.\n"
   ]
  }
 ],
 "metadata": {
  "kernelspec": {
   "display_name": "base",
   "language": "python",
   "name": "python3"
  },
  "language_info": {
   "codemirror_mode": {
    "name": "ipython",
    "version": 3
   },
   "file_extension": ".py",
   "mimetype": "text/x-python",
   "name": "python",
   "nbconvert_exporter": "python",
   "pygments_lexer": "ipython3",
   "version": "3.9.13"
  },
  "vscode": {
   "interpreter": {
    "hash": "1cca9558bc5ad879ec93cc030b157d75f18267527c60932cecaace349eef54dd"
   }
  }
 },
 "nbformat": 4,
 "nbformat_minor": 1
}
