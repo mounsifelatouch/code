{
  "cells": [
    {
      "cell_type": "markdown",
      "metadata": {
        "id": "wSFbIMb87cHu"
      },
      "source": [
        "# **Bioinformatics Project - Computational Drug Discovery [Part 1] Download Bioactivity Data**\n",
        "\n",
        "**MOUNSIF EL ATOUCH**\n",
        "\n",
        "\n",
        "In this Jupyter notebook, we will be building a machine learning model using the ChEMBL bioactivity data.\n",
        "\n",
        "In **Part 1**, we will be performing Data Collection and Pre-Processing from the ChEMBL Database.\n"
      ]
    },
    {
      "cell_type": "markdown",
      "metadata": {
        "id": "iryGAwAIQ4yf"
      },
      "source": [
        "## **Installing libraries**"
      ]
    },
    {
      "cell_type": "markdown",
      "metadata": {
        "id": "toGT1U_B7F2i"
      },
      "source": [
        "Install the ChEMBL web service package so that we can retrieve bioactivity data from the ChEMBL Database."
      ]
    },
    {
      "cell_type": "code",
      "execution_count": 1,
      "metadata": {
        "colab": {
          "base_uri": "https://localhost:8080/"
        },
        "id": "cJGExHQBfLh7",
        "outputId": "2f19d574-4d41-4a1d-917c-1e36391732b4"
      },
      "outputs": [
        {
          "output_type": "stream",
          "name": "stdout",
          "text": [
            "Looking in indexes: https://pypi.org/simple, https://us-python.pkg.dev/colab-wheels/public/simple/\n",
            "Collecting chembl_webresource_client\n",
            "  Downloading chembl_webresource_client-0.10.8-py3-none-any.whl (55 kB)\n",
            "\u001b[2K     \u001b[90m━━━━━━━━━━━━━━━━━━━━━━━━━━━━━━━━━━━━━━━━\u001b[0m \u001b[32m55.2/55.2 kB\u001b[0m \u001b[31m2.5 MB/s\u001b[0m eta \u001b[36m0:00:00\u001b[0m\n",
            "\u001b[?25hRequirement already satisfied: urllib3 in /usr/local/lib/python3.10/dist-packages (from chembl_webresource_client) (1.26.15)\n",
            "Requirement already satisfied: requests>=2.18.4 in /usr/local/lib/python3.10/dist-packages (from chembl_webresource_client) (2.27.1)\n",
            "Collecting requests-cache~=0.7.0 (from chembl_webresource_client)\n",
            "  Downloading requests_cache-0.7.5-py3-none-any.whl (39 kB)\n",
            "Requirement already satisfied: easydict in /usr/local/lib/python3.10/dist-packages (from chembl_webresource_client) (1.10)\n",
            "Requirement already satisfied: certifi>=2017.4.17 in /usr/local/lib/python3.10/dist-packages (from requests>=2.18.4->chembl_webresource_client) (2022.12.7)\n",
            "Requirement already satisfied: charset-normalizer~=2.0.0 in /usr/local/lib/python3.10/dist-packages (from requests>=2.18.4->chembl_webresource_client) (2.0.12)\n",
            "Requirement already satisfied: idna<4,>=2.5 in /usr/local/lib/python3.10/dist-packages (from requests>=2.18.4->chembl_webresource_client) (3.4)\n",
            "Collecting attrs<22.0,>=21.2 (from requests-cache~=0.7.0->chembl_webresource_client)\n",
            "  Downloading attrs-21.4.0-py2.py3-none-any.whl (60 kB)\n",
            "\u001b[2K     \u001b[90m━━━━━━━━━━━━━━━━━━━━━━━━━━━━━━━━━━━━━━━━\u001b[0m \u001b[32m60.6/60.6 kB\u001b[0m \u001b[31m4.2 MB/s\u001b[0m eta \u001b[36m0:00:00\u001b[0m\n",
            "\u001b[?25hRequirement already satisfied: itsdangerous>=2.0.1 in /usr/local/lib/python3.10/dist-packages (from requests-cache~=0.7.0->chembl_webresource_client) (2.1.2)\n",
            "Requirement already satisfied: pyyaml>=5.4 in /usr/local/lib/python3.10/dist-packages (from requests-cache~=0.7.0->chembl_webresource_client) (6.0)\n",
            "Collecting url-normalize<2.0,>=1.4 (from requests-cache~=0.7.0->chembl_webresource_client)\n",
            "  Downloading url_normalize-1.4.3-py2.py3-none-any.whl (6.8 kB)\n",
            "Requirement already satisfied: six in /usr/local/lib/python3.10/dist-packages (from url-normalize<2.0,>=1.4->requests-cache~=0.7.0->chembl_webresource_client) (1.16.0)\n",
            "Installing collected packages: url-normalize, attrs, requests-cache, chembl_webresource_client\n",
            "  Attempting uninstall: attrs\n",
            "    Found existing installation: attrs 23.1.0\n",
            "    Uninstalling attrs-23.1.0:\n",
            "      Successfully uninstalled attrs-23.1.0\n",
            "Successfully installed attrs-21.4.0 chembl_webresource_client-0.10.8 requests-cache-0.7.5 url-normalize-1.4.3\n"
          ]
        }
      ],
      "source": [
        "! pip install chembl_webresource_client"
      ]
    },
    {
      "cell_type": "code",
      "source": [
        "! pip install missingno"
      ],
      "metadata": {
        "colab": {
          "base_uri": "https://localhost:8080/"
        },
        "id": "r9r6oL15zFYu",
        "outputId": "bfeb8907-6bfb-4c1a-c356-83d5584dc110"
      },
      "execution_count": 2,
      "outputs": [
        {
          "output_type": "stream",
          "name": "stdout",
          "text": [
            "Looking in indexes: https://pypi.org/simple, https://us-python.pkg.dev/colab-wheels/public/simple/\n",
            "Requirement already satisfied: missingno in /usr/local/lib/python3.10/dist-packages (0.5.2)\n",
            "Requirement already satisfied: numpy in /usr/local/lib/python3.10/dist-packages (from missingno) (1.22.4)\n",
            "Requirement already satisfied: matplotlib in /usr/local/lib/python3.10/dist-packages (from missingno) (3.7.1)\n",
            "Requirement already satisfied: scipy in /usr/local/lib/python3.10/dist-packages (from missingno) (1.10.1)\n",
            "Requirement already satisfied: seaborn in /usr/local/lib/python3.10/dist-packages (from missingno) (0.12.2)\n",
            "Requirement already satisfied: contourpy>=1.0.1 in /usr/local/lib/python3.10/dist-packages (from matplotlib->missingno) (1.0.7)\n",
            "Requirement already satisfied: cycler>=0.10 in /usr/local/lib/python3.10/dist-packages (from matplotlib->missingno) (0.11.0)\n",
            "Requirement already satisfied: fonttools>=4.22.0 in /usr/local/lib/python3.10/dist-packages (from matplotlib->missingno) (4.39.3)\n",
            "Requirement already satisfied: kiwisolver>=1.0.1 in /usr/local/lib/python3.10/dist-packages (from matplotlib->missingno) (1.4.4)\n",
            "Requirement already satisfied: packaging>=20.0 in /usr/local/lib/python3.10/dist-packages (from matplotlib->missingno) (23.1)\n",
            "Requirement already satisfied: pillow>=6.2.0 in /usr/local/lib/python3.10/dist-packages (from matplotlib->missingno) (8.4.0)\n",
            "Requirement already satisfied: pyparsing>=2.3.1 in /usr/local/lib/python3.10/dist-packages (from matplotlib->missingno) (3.0.9)\n",
            "Requirement already satisfied: python-dateutil>=2.7 in /usr/local/lib/python3.10/dist-packages (from matplotlib->missingno) (2.8.2)\n",
            "Requirement already satisfied: pandas>=0.25 in /usr/local/lib/python3.10/dist-packages (from seaborn->missingno) (1.5.3)\n",
            "Requirement already satisfied: pytz>=2020.1 in /usr/local/lib/python3.10/dist-packages (from pandas>=0.25->seaborn->missingno) (2022.7.1)\n",
            "Requirement already satisfied: six>=1.5 in /usr/local/lib/python3.10/dist-packages (from python-dateutil>=2.7->matplotlib->missingno) (1.16.0)\n"
          ]
        }
      ]
    },
    {
      "cell_type": "markdown",
      "metadata": {
        "id": "J0kJjL8gb5nX"
      },
      "source": [
        "## **Importing libraries**"
      ]
    },
    {
      "cell_type": "code",
      "execution_count": 39,
      "metadata": {
        "id": "RXoCvMPPfNrv"
      },
      "outputs": [],
      "source": [
        "import pandas as pd #data processing, CSV file I/O (e.g. pd.read_csv)\n",
        "from chembl_webresource_client.new_client import new_client #provides a client interface to the ChEMBL database of bioactive molecules\n",
        "import warnings #ignore warnings\n",
        "warnings.filterwarnings('ignore')\n",
        "import missingno as msno #visualizing missing data in datasets\n",
        "import numpy as np #linear algebra\n",
        "import seaborn as sns\n",
        "sns.set(style='ticks')\n",
        "import matplotlib.pyplot as plt"
      ]
    },
    {
      "cell_type": "markdown",
      "metadata": {
        "id": "1FgUai1bfigC"
      },
      "source": [
        "## **Search for Target protein**"
      ]
    },
    {
      "cell_type": "markdown",
      "metadata": {
        "id": "7lBsDrD0gAqH"
      },
      "source": [
        "### **Target search for \"urease\"**"
      ]
    },
    {
      "cell_type": "code",
      "execution_count": 4,
      "metadata": {
        "colab": {
          "base_uri": "https://localhost:8080/",
          "height": 358
        },
        "id": "Vxtp79so4ZjF",
        "outputId": "02308c67-fc61-4700-a2b3-54ca41fc3314"
      },
      "outputs": [
        {
          "output_type": "execute_result",
          "data": {
            "text/plain": [
              "                                    cross_references  \\\n",
              "0  [{'xref_id': 'P07374', 'xref_name': None, 'xre...   \n",
              "1                                                 []   \n",
              "2  [{'xref_id': 'Q0PXQ5', 'xref_name': None, 'xre...   \n",
              "3                                                 []   \n",
              "\n",
              "                                            organism  \\\n",
              "0                               Canavalia ensiformis   \n",
              "1                                           Bacteria   \n",
              "2                                Helicobacter pylori   \n",
              "3  Helicobacter pylori (strain ATCC 700392 / 2669...   \n",
              "\n",
              "                                  pref_name  score  species_group_flag  \\\n",
              "0                                    Urease   21.0               False   \n",
              "1                          Bacterial urease   19.0                True   \n",
              "2                                    Urease   18.0               False   \n",
              "3  Urease subunit alpha/Urease subunit beta   18.0               False   \n",
              "\n",
              "  target_chembl_id                                  target_components  \\\n",
              "0       CHEMBL4161  [{'accession': 'P07374', 'component_descriptio...   \n",
              "1    CHEMBL2364683  [{'accession': 'Q03282', 'component_descriptio...   \n",
              "2       CHEMBL5325  [{'accession': 'Q0PXQ5', 'component_descriptio...   \n",
              "3    CHEMBL3885651  [{'accession': 'P69996', 'component_descriptio...   \n",
              "\n",
              "       target_type  tax_id  \n",
              "0   SINGLE PROTEIN    3823  \n",
              "1  PROTEIN COMPLEX       2  \n",
              "2   SINGLE PROTEIN     210  \n",
              "3  PROTEIN COMPLEX   85962  "
            ],
            "text/html": [
              "\n",
              "  <div id=\"df-1edd3fa2-2b95-437b-9847-832af9a6c119\">\n",
              "    <div class=\"colab-df-container\">\n",
              "      <div>\n",
              "<style scoped>\n",
              "    .dataframe tbody tr th:only-of-type {\n",
              "        vertical-align: middle;\n",
              "    }\n",
              "\n",
              "    .dataframe tbody tr th {\n",
              "        vertical-align: top;\n",
              "    }\n",
              "\n",
              "    .dataframe thead th {\n",
              "        text-align: right;\n",
              "    }\n",
              "</style>\n",
              "<table border=\"1\" class=\"dataframe\">\n",
              "  <thead>\n",
              "    <tr style=\"text-align: right;\">\n",
              "      <th></th>\n",
              "      <th>cross_references</th>\n",
              "      <th>organism</th>\n",
              "      <th>pref_name</th>\n",
              "      <th>score</th>\n",
              "      <th>species_group_flag</th>\n",
              "      <th>target_chembl_id</th>\n",
              "      <th>target_components</th>\n",
              "      <th>target_type</th>\n",
              "      <th>tax_id</th>\n",
              "    </tr>\n",
              "  </thead>\n",
              "  <tbody>\n",
              "    <tr>\n",
              "      <th>0</th>\n",
              "      <td>[{'xref_id': 'P07374', 'xref_name': None, 'xre...</td>\n",
              "      <td>Canavalia ensiformis</td>\n",
              "      <td>Urease</td>\n",
              "      <td>21.0</td>\n",
              "      <td>False</td>\n",
              "      <td>CHEMBL4161</td>\n",
              "      <td>[{'accession': 'P07374', 'component_descriptio...</td>\n",
              "      <td>SINGLE PROTEIN</td>\n",
              "      <td>3823</td>\n",
              "    </tr>\n",
              "    <tr>\n",
              "      <th>1</th>\n",
              "      <td>[]</td>\n",
              "      <td>Bacteria</td>\n",
              "      <td>Bacterial urease</td>\n",
              "      <td>19.0</td>\n",
              "      <td>True</td>\n",
              "      <td>CHEMBL2364683</td>\n",
              "      <td>[{'accession': 'Q03282', 'component_descriptio...</td>\n",
              "      <td>PROTEIN COMPLEX</td>\n",
              "      <td>2</td>\n",
              "    </tr>\n",
              "    <tr>\n",
              "      <th>2</th>\n",
              "      <td>[{'xref_id': 'Q0PXQ5', 'xref_name': None, 'xre...</td>\n",
              "      <td>Helicobacter pylori</td>\n",
              "      <td>Urease</td>\n",
              "      <td>18.0</td>\n",
              "      <td>False</td>\n",
              "      <td>CHEMBL5325</td>\n",
              "      <td>[{'accession': 'Q0PXQ5', 'component_descriptio...</td>\n",
              "      <td>SINGLE PROTEIN</td>\n",
              "      <td>210</td>\n",
              "    </tr>\n",
              "    <tr>\n",
              "      <th>3</th>\n",
              "      <td>[]</td>\n",
              "      <td>Helicobacter pylori (strain ATCC 700392 / 2669...</td>\n",
              "      <td>Urease subunit alpha/Urease subunit beta</td>\n",
              "      <td>18.0</td>\n",
              "      <td>False</td>\n",
              "      <td>CHEMBL3885651</td>\n",
              "      <td>[{'accession': 'P69996', 'component_descriptio...</td>\n",
              "      <td>PROTEIN COMPLEX</td>\n",
              "      <td>85962</td>\n",
              "    </tr>\n",
              "  </tbody>\n",
              "</table>\n",
              "</div>\n",
              "      <button class=\"colab-df-convert\" onclick=\"convertToInteractive('df-1edd3fa2-2b95-437b-9847-832af9a6c119')\"\n",
              "              title=\"Convert this dataframe to an interactive table.\"\n",
              "              style=\"display:none;\">\n",
              "        \n",
              "  <svg xmlns=\"http://www.w3.org/2000/svg\" height=\"24px\"viewBox=\"0 0 24 24\"\n",
              "       width=\"24px\">\n",
              "    <path d=\"M0 0h24v24H0V0z\" fill=\"none\"/>\n",
              "    <path d=\"M18.56 5.44l.94 2.06.94-2.06 2.06-.94-2.06-.94-.94-2.06-.94 2.06-2.06.94zm-11 1L8.5 8.5l.94-2.06 2.06-.94-2.06-.94L8.5 2.5l-.94 2.06-2.06.94zm10 10l.94 2.06.94-2.06 2.06-.94-2.06-.94-.94-2.06-.94 2.06-2.06.94z\"/><path d=\"M17.41 7.96l-1.37-1.37c-.4-.4-.92-.59-1.43-.59-.52 0-1.04.2-1.43.59L10.3 9.45l-7.72 7.72c-.78.78-.78 2.05 0 2.83L4 21.41c.39.39.9.59 1.41.59.51 0 1.02-.2 1.41-.59l7.78-7.78 2.81-2.81c.8-.78.8-2.07 0-2.86zM5.41 20L4 18.59l7.72-7.72 1.47 1.35L5.41 20z\"/>\n",
              "  </svg>\n",
              "      </button>\n",
              "      \n",
              "  <style>\n",
              "    .colab-df-container {\n",
              "      display:flex;\n",
              "      flex-wrap:wrap;\n",
              "      gap: 12px;\n",
              "    }\n",
              "\n",
              "    .colab-df-convert {\n",
              "      background-color: #E8F0FE;\n",
              "      border: none;\n",
              "      border-radius: 50%;\n",
              "      cursor: pointer;\n",
              "      display: none;\n",
              "      fill: #1967D2;\n",
              "      height: 32px;\n",
              "      padding: 0 0 0 0;\n",
              "      width: 32px;\n",
              "    }\n",
              "\n",
              "    .colab-df-convert:hover {\n",
              "      background-color: #E2EBFA;\n",
              "      box-shadow: 0px 1px 2px rgba(60, 64, 67, 0.3), 0px 1px 3px 1px rgba(60, 64, 67, 0.15);\n",
              "      fill: #174EA6;\n",
              "    }\n",
              "\n",
              "    [theme=dark] .colab-df-convert {\n",
              "      background-color: #3B4455;\n",
              "      fill: #D2E3FC;\n",
              "    }\n",
              "\n",
              "    [theme=dark] .colab-df-convert:hover {\n",
              "      background-color: #434B5C;\n",
              "      box-shadow: 0px 1px 3px 1px rgba(0, 0, 0, 0.15);\n",
              "      filter: drop-shadow(0px 1px 2px rgba(0, 0, 0, 0.3));\n",
              "      fill: #FFFFFF;\n",
              "    }\n",
              "  </style>\n",
              "\n",
              "      <script>\n",
              "        const buttonEl =\n",
              "          document.querySelector('#df-1edd3fa2-2b95-437b-9847-832af9a6c119 button.colab-df-convert');\n",
              "        buttonEl.style.display =\n",
              "          google.colab.kernel.accessAllowed ? 'block' : 'none';\n",
              "\n",
              "        async function convertToInteractive(key) {\n",
              "          const element = document.querySelector('#df-1edd3fa2-2b95-437b-9847-832af9a6c119');\n",
              "          const dataTable =\n",
              "            await google.colab.kernel.invokeFunction('convertToInteractive',\n",
              "                                                     [key], {});\n",
              "          if (!dataTable) return;\n",
              "\n",
              "          const docLinkHtml = 'Like what you see? Visit the ' +\n",
              "            '<a target=\"_blank\" href=https://colab.research.google.com/notebooks/data_table.ipynb>data table notebook</a>'\n",
              "            + ' to learn more about interactive tables.';\n",
              "          element.innerHTML = '';\n",
              "          dataTable['output_type'] = 'display_data';\n",
              "          await google.colab.output.renderOutput(dataTable, element);\n",
              "          const docLink = document.createElement('div');\n",
              "          docLink.innerHTML = docLinkHtml;\n",
              "          element.appendChild(docLink);\n",
              "        }\n",
              "      </script>\n",
              "    </div>\n",
              "  </div>\n",
              "  "
            ]
          },
          "metadata": {},
          "execution_count": 4
        }
      ],
      "source": [
        "target = new_client.target\n",
        "target_query = target.search('urease')\n",
        "targets = pd.DataFrame.from_dict(target_query)\n",
        "targets"
      ]
    },
    {
      "cell_type": "markdown",
      "metadata": {
        "id": "Y5OPfEALjAfZ"
      },
      "source": [
        "### **Select and retrieve bioactivity data for *Helicobacter pylori (strain ATCC 700392 / 26695) (Campylobacterpylori)* (fourth entry)**"
      ]
    },
    {
      "cell_type": "markdown",
      "metadata": {
        "id": "gSQ3aroOgML7"
      },
      "source": [
        "We will assign the fourth entry (which corresponds to the target protein, *Helicobacter pylori (strain ATCC 700392 / 26695) (Campylobacterpylori)*) to the ***selected_target*** variable "
      ]
    },
    {
      "cell_type": "code",
      "execution_count": 5,
      "metadata": {
        "colab": {
          "base_uri": "https://localhost:8080/",
          "height": 36
        },
        "id": "StrcHMVLha7u",
        "outputId": "04f10fc0-b5a6-43c3-c2c9-7af62f3a36ad"
      },
      "outputs": [
        {
          "output_type": "execute_result",
          "data": {
            "text/plain": [
              "'CHEMBL3885651'"
            ],
            "application/vnd.google.colaboratory.intrinsic+json": {
              "type": "string"
            }
          },
          "metadata": {},
          "execution_count": 5
        }
      ],
      "source": [
        "selected_target = targets.target_chembl_id[3]\n",
        "selected_target"
      ]
    },
    {
      "cell_type": "markdown",
      "metadata": {
        "id": "GWd2DRalgjzB"
      },
      "source": [
        "Here, we will retrieve only bioactivity data for *Helicobacter pylori (strain ATCC 700392 / 26695) (Campylobacterpylori)* (CHEMBL3885651) that are reported as pChEMBL values."
      ]
    },
    {
      "cell_type": "code",
      "execution_count": 6,
      "metadata": {
        "id": "LeFbV_CsSP8D"
      },
      "outputs": [],
      "source": [
        "activity = new_client.activity\n",
        "res = activity.filter(target_chembl_id=selected_target).filter(standard_type=\"IC50\")"
      ]
    },
    {
      "cell_type": "code",
      "execution_count": 7,
      "metadata": {
        "id": "BoQtu29ppxJ-"
      },
      "outputs": [],
      "source": [
        "df1 = pd.DataFrame.from_dict(res)"
      ]
    },
    {
      "cell_type": "code",
      "execution_count": 8,
      "metadata": {
        "colab": {
          "base_uri": "https://localhost:8080/",
          "height": 834
        },
        "id": "BzkQD7mhpxJ-",
        "outputId": "4e012e0c-d75b-42a7-e50f-d5a9091f6ddd"
      },
      "outputs": [
        {
          "output_type": "execute_result",
          "data": {
            "text/plain": [
              "    activity_comment  activity_id activity_properties assay_chembl_id  \\\n",
              "0               None      1944249                  []    CHEMBL893889   \n",
              "1               None      1944250                  []    CHEMBL893889   \n",
              "2               None      1944251                  []    CHEMBL893889   \n",
              "3               None      1944874                  []    CHEMBL893890   \n",
              "4               None      1944876                  []    CHEMBL893891   \n",
              "..               ...          ...                 ...             ...   \n",
              "499             None     19445670                  []   CHEMBL4432507   \n",
              "500             None     19445671                  []   CHEMBL4432507   \n",
              "501       Not Active     19445672                  []   CHEMBL4432507   \n",
              "502       Not Active     19445673                  []   CHEMBL4432507   \n",
              "503             None     19445674                  []   CHEMBL4432507   \n",
              "\n",
              "                                     assay_description assay_type  \\\n",
              "0    Inhibition of Helicobacter pylori ATCC 43504 u...          B   \n",
              "1    Inhibition of Helicobacter pylori ATCC 43504 u...          B   \n",
              "2    Inhibition of Helicobacter pylori ATCC 43504 u...          B   \n",
              "3    Inhibition of Helicobacter pylori ATCC 43504 u...          B   \n",
              "4    Inhibition of Helicobacter pylori ATCC 43504 u...          B   \n",
              "..                                                 ...        ...   \n",
              "499  Inhibition of urease in Helicobacter pylori J9...          B   \n",
              "500  Inhibition of urease in Helicobacter pylori J9...          B   \n",
              "501  Inhibition of urease in Helicobacter pylori J9...          B   \n",
              "502  Inhibition of urease in Helicobacter pylori J9...          B   \n",
              "503  Inhibition of urease in Helicobacter pylori J9...          B   \n",
              "\n",
              "    assay_variant_accession assay_variant_mutation bao_endpoint   bao_format  \\\n",
              "0                      None                   None  BAO_0000190  BAO_0000019   \n",
              "1                      None                   None  BAO_0000190  BAO_0000019   \n",
              "2                      None                   None  BAO_0000190  BAO_0000019   \n",
              "3                      None                   None  BAO_0000190  BAO_0000019   \n",
              "4                      None                   None  BAO_0000190  BAO_0000019   \n",
              "..                      ...                    ...          ...          ...   \n",
              "499                    None                   None  BAO_0000190  BAO_0000223   \n",
              "500                    None                   None  BAO_0000190  BAO_0000223   \n",
              "501                    None                   None  BAO_0000190  BAO_0000223   \n",
              "502                    None                   None  BAO_0000190  BAO_0000223   \n",
              "503                    None                   None  BAO_0000190  BAO_0000223   \n",
              "\n",
              "     ...                                    target_organism  \\\n",
              "0    ...  Helicobacter pylori (strain ATCC 700392 / 2669...   \n",
              "1    ...  Helicobacter pylori (strain ATCC 700392 / 2669...   \n",
              "2    ...  Helicobacter pylori (strain ATCC 700392 / 2669...   \n",
              "3    ...  Helicobacter pylori (strain ATCC 700392 / 2669...   \n",
              "4    ...  Helicobacter pylori (strain ATCC 700392 / 2669...   \n",
              "..   ...                                                ...   \n",
              "499  ...  Helicobacter pylori (strain ATCC 700392 / 2669...   \n",
              "500  ...  Helicobacter pylori (strain ATCC 700392 / 2669...   \n",
              "501  ...  Helicobacter pylori (strain ATCC 700392 / 2669...   \n",
              "502  ...  Helicobacter pylori (strain ATCC 700392 / 2669...   \n",
              "503  ...  Helicobacter pylori (strain ATCC 700392 / 2669...   \n",
              "\n",
              "                             target_pref_name target_tax_id text_value  toid  \\\n",
              "0    Urease subunit alpha/Urease subunit beta         85962       None  None   \n",
              "1    Urease subunit alpha/Urease subunit beta         85962       None  None   \n",
              "2    Urease subunit alpha/Urease subunit beta         85962       None  None   \n",
              "3    Urease subunit alpha/Urease subunit beta         85962       None  None   \n",
              "4    Urease subunit alpha/Urease subunit beta         85962       None  None   \n",
              "..                                        ...           ...        ...   ...   \n",
              "499  Urease subunit alpha/Urease subunit beta         85962       None  None   \n",
              "500  Urease subunit alpha/Urease subunit beta         85962       None  None   \n",
              "501  Urease subunit alpha/Urease subunit beta         85962       None  None   \n",
              "502  Urease subunit alpha/Urease subunit beta         85962       None  None   \n",
              "503  Urease subunit alpha/Urease subunit beta         85962       None  None   \n",
              "\n",
              "     type  units    uo_units upper_value  value  \n",
              "0    IC50     mM  UO_0000065        None   0.03  \n",
              "1    IC50     mM  UO_0000065        None  0.017  \n",
              "2    IC50     mM  UO_0000065        None   0.14  \n",
              "3    IC50     mM  UO_0000065        None   1.48  \n",
              "4    IC50     mM  UO_0000065        None   1.48  \n",
              "..    ...    ...         ...         ...    ...  \n",
              "499  IC50     uM  UO_0000065        None   83.5  \n",
              "500  IC50     uM  UO_0000065        None   11.8  \n",
              "501  IC50   None        None        None   None  \n",
              "502  IC50   None        None        None   None  \n",
              "503  IC50     uM  UO_0000065        None  156.0  \n",
              "\n",
              "[504 rows x 45 columns]"
            ],
            "text/html": [
              "\n",
              "  <div id=\"df-c7be3d0b-a651-48f3-97e3-e67507caf897\">\n",
              "    <div class=\"colab-df-container\">\n",
              "      <div>\n",
              "<style scoped>\n",
              "    .dataframe tbody tr th:only-of-type {\n",
              "        vertical-align: middle;\n",
              "    }\n",
              "\n",
              "    .dataframe tbody tr th {\n",
              "        vertical-align: top;\n",
              "    }\n",
              "\n",
              "    .dataframe thead th {\n",
              "        text-align: right;\n",
              "    }\n",
              "</style>\n",
              "<table border=\"1\" class=\"dataframe\">\n",
              "  <thead>\n",
              "    <tr style=\"text-align: right;\">\n",
              "      <th></th>\n",
              "      <th>activity_comment</th>\n",
              "      <th>activity_id</th>\n",
              "      <th>activity_properties</th>\n",
              "      <th>assay_chembl_id</th>\n",
              "      <th>assay_description</th>\n",
              "      <th>assay_type</th>\n",
              "      <th>assay_variant_accession</th>\n",
              "      <th>assay_variant_mutation</th>\n",
              "      <th>bao_endpoint</th>\n",
              "      <th>bao_format</th>\n",
              "      <th>...</th>\n",
              "      <th>target_organism</th>\n",
              "      <th>target_pref_name</th>\n",
              "      <th>target_tax_id</th>\n",
              "      <th>text_value</th>\n",
              "      <th>toid</th>\n",
              "      <th>type</th>\n",
              "      <th>units</th>\n",
              "      <th>uo_units</th>\n",
              "      <th>upper_value</th>\n",
              "      <th>value</th>\n",
              "    </tr>\n",
              "  </thead>\n",
              "  <tbody>\n",
              "    <tr>\n",
              "      <th>0</th>\n",
              "      <td>None</td>\n",
              "      <td>1944249</td>\n",
              "      <td>[]</td>\n",
              "      <td>CHEMBL893889</td>\n",
              "      <td>Inhibition of Helicobacter pylori ATCC 43504 u...</td>\n",
              "      <td>B</td>\n",
              "      <td>None</td>\n",
              "      <td>None</td>\n",
              "      <td>BAO_0000190</td>\n",
              "      <td>BAO_0000019</td>\n",
              "      <td>...</td>\n",
              "      <td>Helicobacter pylori (strain ATCC 700392 / 2669...</td>\n",
              "      <td>Urease subunit alpha/Urease subunit beta</td>\n",
              "      <td>85962</td>\n",
              "      <td>None</td>\n",
              "      <td>None</td>\n",
              "      <td>IC50</td>\n",
              "      <td>mM</td>\n",
              "      <td>UO_0000065</td>\n",
              "      <td>None</td>\n",
              "      <td>0.03</td>\n",
              "    </tr>\n",
              "    <tr>\n",
              "      <th>1</th>\n",
              "      <td>None</td>\n",
              "      <td>1944250</td>\n",
              "      <td>[]</td>\n",
              "      <td>CHEMBL893889</td>\n",
              "      <td>Inhibition of Helicobacter pylori ATCC 43504 u...</td>\n",
              "      <td>B</td>\n",
              "      <td>None</td>\n",
              "      <td>None</td>\n",
              "      <td>BAO_0000190</td>\n",
              "      <td>BAO_0000019</td>\n",
              "      <td>...</td>\n",
              "      <td>Helicobacter pylori (strain ATCC 700392 / 2669...</td>\n",
              "      <td>Urease subunit alpha/Urease subunit beta</td>\n",
              "      <td>85962</td>\n",
              "      <td>None</td>\n",
              "      <td>None</td>\n",
              "      <td>IC50</td>\n",
              "      <td>mM</td>\n",
              "      <td>UO_0000065</td>\n",
              "      <td>None</td>\n",
              "      <td>0.017</td>\n",
              "    </tr>\n",
              "    <tr>\n",
              "      <th>2</th>\n",
              "      <td>None</td>\n",
              "      <td>1944251</td>\n",
              "      <td>[]</td>\n",
              "      <td>CHEMBL893889</td>\n",
              "      <td>Inhibition of Helicobacter pylori ATCC 43504 u...</td>\n",
              "      <td>B</td>\n",
              "      <td>None</td>\n",
              "      <td>None</td>\n",
              "      <td>BAO_0000190</td>\n",
              "      <td>BAO_0000019</td>\n",
              "      <td>...</td>\n",
              "      <td>Helicobacter pylori (strain ATCC 700392 / 2669...</td>\n",
              "      <td>Urease subunit alpha/Urease subunit beta</td>\n",
              "      <td>85962</td>\n",
              "      <td>None</td>\n",
              "      <td>None</td>\n",
              "      <td>IC50</td>\n",
              "      <td>mM</td>\n",
              "      <td>UO_0000065</td>\n",
              "      <td>None</td>\n",
              "      <td>0.14</td>\n",
              "    </tr>\n",
              "    <tr>\n",
              "      <th>3</th>\n",
              "      <td>None</td>\n",
              "      <td>1944874</td>\n",
              "      <td>[]</td>\n",
              "      <td>CHEMBL893890</td>\n",
              "      <td>Inhibition of Helicobacter pylori ATCC 43504 u...</td>\n",
              "      <td>B</td>\n",
              "      <td>None</td>\n",
              "      <td>None</td>\n",
              "      <td>BAO_0000190</td>\n",
              "      <td>BAO_0000019</td>\n",
              "      <td>...</td>\n",
              "      <td>Helicobacter pylori (strain ATCC 700392 / 2669...</td>\n",
              "      <td>Urease subunit alpha/Urease subunit beta</td>\n",
              "      <td>85962</td>\n",
              "      <td>None</td>\n",
              "      <td>None</td>\n",
              "      <td>IC50</td>\n",
              "      <td>mM</td>\n",
              "      <td>UO_0000065</td>\n",
              "      <td>None</td>\n",
              "      <td>1.48</td>\n",
              "    </tr>\n",
              "    <tr>\n",
              "      <th>4</th>\n",
              "      <td>None</td>\n",
              "      <td>1944876</td>\n",
              "      <td>[]</td>\n",
              "      <td>CHEMBL893891</td>\n",
              "      <td>Inhibition of Helicobacter pylori ATCC 43504 u...</td>\n",
              "      <td>B</td>\n",
              "      <td>None</td>\n",
              "      <td>None</td>\n",
              "      <td>BAO_0000190</td>\n",
              "      <td>BAO_0000019</td>\n",
              "      <td>...</td>\n",
              "      <td>Helicobacter pylori (strain ATCC 700392 / 2669...</td>\n",
              "      <td>Urease subunit alpha/Urease subunit beta</td>\n",
              "      <td>85962</td>\n",
              "      <td>None</td>\n",
              "      <td>None</td>\n",
              "      <td>IC50</td>\n",
              "      <td>mM</td>\n",
              "      <td>UO_0000065</td>\n",
              "      <td>None</td>\n",
              "      <td>1.48</td>\n",
              "    </tr>\n",
              "    <tr>\n",
              "      <th>...</th>\n",
              "      <td>...</td>\n",
              "      <td>...</td>\n",
              "      <td>...</td>\n",
              "      <td>...</td>\n",
              "      <td>...</td>\n",
              "      <td>...</td>\n",
              "      <td>...</td>\n",
              "      <td>...</td>\n",
              "      <td>...</td>\n",
              "      <td>...</td>\n",
              "      <td>...</td>\n",
              "      <td>...</td>\n",
              "      <td>...</td>\n",
              "      <td>...</td>\n",
              "      <td>...</td>\n",
              "      <td>...</td>\n",
              "      <td>...</td>\n",
              "      <td>...</td>\n",
              "      <td>...</td>\n",
              "      <td>...</td>\n",
              "      <td>...</td>\n",
              "    </tr>\n",
              "    <tr>\n",
              "      <th>499</th>\n",
              "      <td>None</td>\n",
              "      <td>19445670</td>\n",
              "      <td>[]</td>\n",
              "      <td>CHEMBL4432507</td>\n",
              "      <td>Inhibition of urease in Helicobacter pylori J9...</td>\n",
              "      <td>B</td>\n",
              "      <td>None</td>\n",
              "      <td>None</td>\n",
              "      <td>BAO_0000190</td>\n",
              "      <td>BAO_0000223</td>\n",
              "      <td>...</td>\n",
              "      <td>Helicobacter pylori (strain ATCC 700392 / 2669...</td>\n",
              "      <td>Urease subunit alpha/Urease subunit beta</td>\n",
              "      <td>85962</td>\n",
              "      <td>None</td>\n",
              "      <td>None</td>\n",
              "      <td>IC50</td>\n",
              "      <td>uM</td>\n",
              "      <td>UO_0000065</td>\n",
              "      <td>None</td>\n",
              "      <td>83.5</td>\n",
              "    </tr>\n",
              "    <tr>\n",
              "      <th>500</th>\n",
              "      <td>None</td>\n",
              "      <td>19445671</td>\n",
              "      <td>[]</td>\n",
              "      <td>CHEMBL4432507</td>\n",
              "      <td>Inhibition of urease in Helicobacter pylori J9...</td>\n",
              "      <td>B</td>\n",
              "      <td>None</td>\n",
              "      <td>None</td>\n",
              "      <td>BAO_0000190</td>\n",
              "      <td>BAO_0000223</td>\n",
              "      <td>...</td>\n",
              "      <td>Helicobacter pylori (strain ATCC 700392 / 2669...</td>\n",
              "      <td>Urease subunit alpha/Urease subunit beta</td>\n",
              "      <td>85962</td>\n",
              "      <td>None</td>\n",
              "      <td>None</td>\n",
              "      <td>IC50</td>\n",
              "      <td>uM</td>\n",
              "      <td>UO_0000065</td>\n",
              "      <td>None</td>\n",
              "      <td>11.8</td>\n",
              "    </tr>\n",
              "    <tr>\n",
              "      <th>501</th>\n",
              "      <td>Not Active</td>\n",
              "      <td>19445672</td>\n",
              "      <td>[]</td>\n",
              "      <td>CHEMBL4432507</td>\n",
              "      <td>Inhibition of urease in Helicobacter pylori J9...</td>\n",
              "      <td>B</td>\n",
              "      <td>None</td>\n",
              "      <td>None</td>\n",
              "      <td>BAO_0000190</td>\n",
              "      <td>BAO_0000223</td>\n",
              "      <td>...</td>\n",
              "      <td>Helicobacter pylori (strain ATCC 700392 / 2669...</td>\n",
              "      <td>Urease subunit alpha/Urease subunit beta</td>\n",
              "      <td>85962</td>\n",
              "      <td>None</td>\n",
              "      <td>None</td>\n",
              "      <td>IC50</td>\n",
              "      <td>None</td>\n",
              "      <td>None</td>\n",
              "      <td>None</td>\n",
              "      <td>None</td>\n",
              "    </tr>\n",
              "    <tr>\n",
              "      <th>502</th>\n",
              "      <td>Not Active</td>\n",
              "      <td>19445673</td>\n",
              "      <td>[]</td>\n",
              "      <td>CHEMBL4432507</td>\n",
              "      <td>Inhibition of urease in Helicobacter pylori J9...</td>\n",
              "      <td>B</td>\n",
              "      <td>None</td>\n",
              "      <td>None</td>\n",
              "      <td>BAO_0000190</td>\n",
              "      <td>BAO_0000223</td>\n",
              "      <td>...</td>\n",
              "      <td>Helicobacter pylori (strain ATCC 700392 / 2669...</td>\n",
              "      <td>Urease subunit alpha/Urease subunit beta</td>\n",
              "      <td>85962</td>\n",
              "      <td>None</td>\n",
              "      <td>None</td>\n",
              "      <td>IC50</td>\n",
              "      <td>None</td>\n",
              "      <td>None</td>\n",
              "      <td>None</td>\n",
              "      <td>None</td>\n",
              "    </tr>\n",
              "    <tr>\n",
              "      <th>503</th>\n",
              "      <td>None</td>\n",
              "      <td>19445674</td>\n",
              "      <td>[]</td>\n",
              "      <td>CHEMBL4432507</td>\n",
              "      <td>Inhibition of urease in Helicobacter pylori J9...</td>\n",
              "      <td>B</td>\n",
              "      <td>None</td>\n",
              "      <td>None</td>\n",
              "      <td>BAO_0000190</td>\n",
              "      <td>BAO_0000223</td>\n",
              "      <td>...</td>\n",
              "      <td>Helicobacter pylori (strain ATCC 700392 / 2669...</td>\n",
              "      <td>Urease subunit alpha/Urease subunit beta</td>\n",
              "      <td>85962</td>\n",
              "      <td>None</td>\n",
              "      <td>None</td>\n",
              "      <td>IC50</td>\n",
              "      <td>uM</td>\n",
              "      <td>UO_0000065</td>\n",
              "      <td>None</td>\n",
              "      <td>156.0</td>\n",
              "    </tr>\n",
              "  </tbody>\n",
              "</table>\n",
              "<p>504 rows × 45 columns</p>\n",
              "</div>\n",
              "      <button class=\"colab-df-convert\" onclick=\"convertToInteractive('df-c7be3d0b-a651-48f3-97e3-e67507caf897')\"\n",
              "              title=\"Convert this dataframe to an interactive table.\"\n",
              "              style=\"display:none;\">\n",
              "        \n",
              "  <svg xmlns=\"http://www.w3.org/2000/svg\" height=\"24px\"viewBox=\"0 0 24 24\"\n",
              "       width=\"24px\">\n",
              "    <path d=\"M0 0h24v24H0V0z\" fill=\"none\"/>\n",
              "    <path d=\"M18.56 5.44l.94 2.06.94-2.06 2.06-.94-2.06-.94-.94-2.06-.94 2.06-2.06.94zm-11 1L8.5 8.5l.94-2.06 2.06-.94-2.06-.94L8.5 2.5l-.94 2.06-2.06.94zm10 10l.94 2.06.94-2.06 2.06-.94-2.06-.94-.94-2.06-.94 2.06-2.06.94z\"/><path d=\"M17.41 7.96l-1.37-1.37c-.4-.4-.92-.59-1.43-.59-.52 0-1.04.2-1.43.59L10.3 9.45l-7.72 7.72c-.78.78-.78 2.05 0 2.83L4 21.41c.39.39.9.59 1.41.59.51 0 1.02-.2 1.41-.59l7.78-7.78 2.81-2.81c.8-.78.8-2.07 0-2.86zM5.41 20L4 18.59l7.72-7.72 1.47 1.35L5.41 20z\"/>\n",
              "  </svg>\n",
              "      </button>\n",
              "      \n",
              "  <style>\n",
              "    .colab-df-container {\n",
              "      display:flex;\n",
              "      flex-wrap:wrap;\n",
              "      gap: 12px;\n",
              "    }\n",
              "\n",
              "    .colab-df-convert {\n",
              "      background-color: #E8F0FE;\n",
              "      border: none;\n",
              "      border-radius: 50%;\n",
              "      cursor: pointer;\n",
              "      display: none;\n",
              "      fill: #1967D2;\n",
              "      height: 32px;\n",
              "      padding: 0 0 0 0;\n",
              "      width: 32px;\n",
              "    }\n",
              "\n",
              "    .colab-df-convert:hover {\n",
              "      background-color: #E2EBFA;\n",
              "      box-shadow: 0px 1px 2px rgba(60, 64, 67, 0.3), 0px 1px 3px 1px rgba(60, 64, 67, 0.15);\n",
              "      fill: #174EA6;\n",
              "    }\n",
              "\n",
              "    [theme=dark] .colab-df-convert {\n",
              "      background-color: #3B4455;\n",
              "      fill: #D2E3FC;\n",
              "    }\n",
              "\n",
              "    [theme=dark] .colab-df-convert:hover {\n",
              "      background-color: #434B5C;\n",
              "      box-shadow: 0px 1px 3px 1px rgba(0, 0, 0, 0.15);\n",
              "      filter: drop-shadow(0px 1px 2px rgba(0, 0, 0, 0.3));\n",
              "      fill: #FFFFFF;\n",
              "    }\n",
              "  </style>\n",
              "\n",
              "      <script>\n",
              "        const buttonEl =\n",
              "          document.querySelector('#df-c7be3d0b-a651-48f3-97e3-e67507caf897 button.colab-df-convert');\n",
              "        buttonEl.style.display =\n",
              "          google.colab.kernel.accessAllowed ? 'block' : 'none';\n",
              "\n",
              "        async function convertToInteractive(key) {\n",
              "          const element = document.querySelector('#df-c7be3d0b-a651-48f3-97e3-e67507caf897');\n",
              "          const dataTable =\n",
              "            await google.colab.kernel.invokeFunction('convertToInteractive',\n",
              "                                                     [key], {});\n",
              "          if (!dataTable) return;\n",
              "\n",
              "          const docLinkHtml = 'Like what you see? Visit the ' +\n",
              "            '<a target=\"_blank\" href=https://colab.research.google.com/notebooks/data_table.ipynb>data table notebook</a>'\n",
              "            + ' to learn more about interactive tables.';\n",
              "          element.innerHTML = '';\n",
              "          dataTable['output_type'] = 'display_data';\n",
              "          await google.colab.output.renderOutput(dataTable, element);\n",
              "          const docLink = document.createElement('div');\n",
              "          docLink.innerHTML = docLinkHtml;\n",
              "          element.appendChild(docLink);\n",
              "        }\n",
              "      </script>\n",
              "    </div>\n",
              "  </div>\n",
              "  "
            ]
          },
          "metadata": {},
          "execution_count": 8
        }
      ],
      "source": [
        "df1"
      ]
    },
    {
      "cell_type": "markdown",
      "metadata": {
        "id": "5H4sSFAWhV9B"
      },
      "source": [
        "## **Data pre-processing of the bioactivity data**"
      ]
    },
    {
      "cell_type": "markdown",
      "source": [
        "### **Combine the 3 columns (molecule_chembl_id, canonical_smiles, standard_value = IC50) and bioactivity_class into a DataFrame**"
      ],
      "metadata": {
        "id": "b8aV08uMzwHa"
      }
    },
    {
      "cell_type": "code",
      "source": [
        "selection = ['molecule_chembl_id','canonical_smiles','standard_value']\n",
        "df2 = df1[selection]"
      ],
      "metadata": {
        "id": "sb1kEMMq0A24"
      },
      "execution_count": 9,
      "outputs": []
    },
    {
      "cell_type": "markdown",
      "metadata": {
        "id": "_GXMpFNUOn_8"
      },
      "source": [
        "### **Handling missing data**"
      ]
    },
    {
      "cell_type": "code",
      "source": [
        "msno.bar(df2, color=\"tomato\")"
      ],
      "metadata": {
        "colab": {
          "base_uri": "https://localhost:8080/",
          "height": 580
        },
        "id": "3UXlkeiSzZUk",
        "outputId": "d41077e7-de6b-409a-d2c5-52dfc1519a5c"
      },
      "execution_count": 10,
      "outputs": [
        {
          "output_type": "execute_result",
          "data": {
            "text/plain": [
              "<Axes: >"
            ]
          },
          "metadata": {},
          "execution_count": 10
        },
        {
          "output_type": "display_data",
          "data": {
            "text/plain": [
              "<Figure size 2500x1000 with 3 Axes>"
            ],
            "image/png": "[encoded data removed]"
          },
          "metadata": {}
        }
      ]
    },
    {
      "cell_type": "markdown",
      "metadata": {
        "id": "hf6QwzzLpxJ_"
      },
      "source": [
        "Save data containing compounds with missing value for the **standard_value** "
      ]
    },
    {
      "cell_type": "code",
      "execution_count": 11,
      "metadata": {
        "id": "MoLzwdGtpxJ_"
      },
      "outputs": [],
      "source": [
        "df2[df2.standard_value.isna()].to_csv('bioactivity_data_raw_with_no_standard_value.csv', index=False)"
      ]
    },
    {
      "cell_type": "markdown",
      "source": [
        "If any compounds has missing value for the **standard_value** and **canonical_smiles** column then drop it"
      ],
      "metadata": {
        "id": "eZKGioUh1KR1"
      }
    },
    {
      "cell_type": "code",
      "source": [
        "df3 = df2[df2.standard_value.notna()][df2.canonical_smiles.notna()]"
      ],
      "metadata": {
        "id": "kxDCvgR11LDy"
      },
      "execution_count": 12,
      "outputs": []
    },
    {
      "cell_type": "markdown",
      "source": [
        "### **Remove duplicates**\n",
        "Drop duplicate molecules based on their canonical SMILES representation"
      ],
      "metadata": {
        "id": "tJOQn7aQ0k9m"
      }
    },
    {
      "cell_type": "code",
      "execution_count": 13,
      "metadata": {
        "id": "JbAK3K7wclkS"
      },
      "outputs": [],
      "source": [
        "df4 = df3.drop_duplicates(['canonical_smiles'])"
      ]
    },
    {
      "cell_type": "markdown",
      "metadata": {
        "id": "d0ObVWGmkj_L"
      },
      "source": [
        "Saves dataframe to CSV file"
      ]
    },
    {
      "cell_type": "code",
      "execution_count": 14,
      "metadata": {
        "id": "pAzJTVu4kMd_"
      },
      "outputs": [],
      "source": [
        "df4.to_csv('bioactivity_data_preprocessed.csv', index=False)"
      ]
    },
    {
      "cell_type": "markdown",
      "metadata": {
        "id": "tO22XVlzhkXR"
      },
      "source": [
        "### **Labeling compounds as either being active or inactive**\n",
        "The bioactivity data is in the IC50 unit. Compounds having values of <= 1000 nM will be considered to be **active** while those > 1000 nM will be considered to be **inactive**. "
      ]
    },
    {
      "cell_type": "code",
      "execution_count": 15,
      "metadata": {
        "id": "Ck9Z2M9CkRy_"
      },
      "outputs": [],
      "source": [
        "df5 = pd.read_csv('bioactivity_data_preprocessed.csv')"
      ]
    },
    {
      "cell_type": "code",
      "execution_count": 36,
      "metadata": {
        "id": "1E8rz7oMOd-5"
      },
      "outputs": [],
      "source": [
        "bioactivity_threshold = []\n",
        "for i in df5.standard_value:\n",
        "  if float(i) > 1000:\n",
        "    bioactivity_threshold.append(\"inactive\")\n",
        "  else:\n",
        "    bioactivity_threshold.append(\"active\")"
      ]
    },
    {
      "cell_type": "code",
      "execution_count": 37,
      "metadata": {
        "id": "Li64nUiZQ-y2",
        "scrolled": false
      },
      "outputs": [],
      "source": [
        "bioactivity_class = pd.Series(bioactivity_threshold, name='target')\n",
        "df6 = pd.concat([df5, bioactivity_class], axis=1)"
      ]
    },
    {
      "cell_type": "markdown",
      "source": [
        "### **Convert IC50 to pIC50**\n",
        "To allow **IC50** data to be more uniformly distributed, we will convert **IC50** to the negative logarithmic scale which is essentially **-log10(IC50)**.\n",
        "\n",
        "This custom function pIC50() will accept a DataFrame as input and will:\n",
        "* Take the IC50 values from the ``standard_value`` column and converts it from nM to M by multiplying the value by 10$^{-9}$\n",
        "* Take the molar value and apply -log10\n",
        "* Delete the ``standard_value`` column and create a new ``pIC50`` column"
      ],
      "metadata": {
        "id": "VwRu_1jN88OL"
      }
    },
    {
      "cell_type": "code",
      "source": [
        "plt.figure(figsize=(3.5, 4))\n",
        "sns.distplot(df6['standard_value'], color='orange', label='Standard Value')\n",
        "\n",
        "plt.title('Standard Values Distribution', fontsize=14, fontweight='bold')\n",
        "plt.xlabel('Standard Value', fontsize=14, fontweight='bold')\n",
        "plt.ylabel('Density', fontsize=14, fontweight='bold')\n",
        "\n",
        "plt.savefig('plot_standard_value_distribution.pdf')"
      ],
      "metadata": {
        "colab": {
          "base_uri": "https://localhost:8080/",
          "height": 437
        },
        "id": "4BDvLRA8F69n",
        "outputId": "7e6e5879-0902-4c6d-8ccd-bdd981acd9c4"
      },
      "execution_count": 53,
      "outputs": [
        {
          "output_type": "display_data",
          "data": {
            "text/plain": [
              "<Figure size 350x400 with 1 Axes>"
            ],
            "image/png": "[encoded data removed]"
          },
          "metadata": {}
        }
      ]
    },
    {
      "cell_type": "code",
      "source": [
        "def pIC50(input):\n",
        "    pIC50 = []\n",
        "\n",
        "    for i in input['standard_value_norm']:\n",
        "        molar = i*(10**-9) #converts nM to M\n",
        "        pIC50.append(-np.log10(molar))\n",
        "\n",
        "    input['pIC50'] = pIC50\n",
        "    x = input.drop('standard_value_norm', 1)\n",
        "        \n",
        "    return x"
      ],
      "metadata": {
        "id": "AagKO77c83HN"
      },
      "execution_count": 27,
      "outputs": []
    },
    {
      "cell_type": "markdown",
      "source": [
        "Point to note: Values greater than 100,000,000 will be fixed at 100,000,000 otherwise the negative logarithmic value will become negative."
      ],
      "metadata": {
        "id": "uTf577Ho94IC"
      }
    },
    {
      "cell_type": "code",
      "source": [
        "-np.log10( (10**-9)* 100000000 ), -np.log10( (10**-9)* 10000000000 )"
      ],
      "metadata": {
        "id": "JWQXlWi0_0Xg",
        "colab": {
          "base_uri": "https://localhost:8080/"
        },
        "outputId": "32bdb29d-5bf7-4c74-8c2c-2041a664a1a5"
      },
      "execution_count": 19,
      "outputs": [
        {
          "output_type": "execute_result",
          "data": {
            "text/plain": [
              "(1.0, -1.0)"
            ]
          },
          "metadata": {},
          "execution_count": 19
        }
      ]
    },
    {
      "cell_type": "code",
      "source": [
        "def norm_value(input):\n",
        "    norm = []\n",
        "\n",
        "    for i in input['standard_value']:\n",
        "        if i > 100000000:\n",
        "          i = 100000000\n",
        "        norm.append(i)\n",
        "\n",
        "    input['standard_value_norm'] = norm\n",
        "    x = input.drop('standard_value', 1)\n",
        "        \n",
        "    return x"
      ],
      "metadata": {
        "id": "P7JlOzdl9r67"
      },
      "execution_count": 28,
      "outputs": []
    },
    {
      "cell_type": "markdown",
      "source": [
        "We will first apply the norm_value() function so that the values in the standard_value column is normalized."
      ],
      "metadata": {
        "id": "JhygUdLC9_wT"
      }
    },
    {
      "cell_type": "code",
      "source": [
        "df7 = norm_value(df6)"
      ],
      "metadata": {
        "id": "yJD-05x--D4F"
      },
      "execution_count": 29,
      "outputs": []
    },
    {
      "cell_type": "code",
      "source": [
        "df_final = pIC50(df7)"
      ],
      "metadata": {
        "id": "nXv28_2E_LUp"
      },
      "execution_count": 30,
      "outputs": []
    },
    {
      "cell_type": "code",
      "source": [
        "plt.figure(figsize=(3.5, 4))\n",
        "sns.distplot(df_final['pIC50'], color='orange', label='pIC50')\n",
        "\n",
        "plt.title('pIC50 Distribution', fontsize=14, fontweight='bold')\n",
        "plt.xlabel('pIC50', fontsize=14, fontweight='bold')\n",
        "plt.ylabel('Density', fontsize=14, fontweight='bold')\n",
        "\n",
        "plt.savefig('plot_pIC50_distribution.pdf')"
      ],
      "metadata": {
        "colab": {
          "base_uri": "https://localhost:8080/",
          "height": 421
        },
        "id": "QqyYAEJJHVwC",
        "outputId": "ee8cb7ec-5142-4c7c-8925-a8a93412fac6"
      },
      "execution_count": 54,
      "outputs": [
        {
          "output_type": "display_data",
          "data": {
            "text/plain": [
              "<Figure size 350x400 with 1 Axes>"
            ],
            "image/png": "[encoded data removed]"
          },
          "metadata": {}
        }
      ]
    },
    {
      "cell_type": "code",
      "source": [
        "df_final"
      ],
      "metadata": {
        "colab": {
          "base_uri": "https://localhost:8080/",
          "height": 423
        },
        "id": "frhZIjemzKB1",
        "outputId": "f16db5a1-0c77-420f-8bcb-2f4031ba3ac2"
      },
      "execution_count": 31,
      "outputs": [
        {
          "output_type": "execute_result",
          "data": {
            "text/plain": [
              "    molecule_chembl_id                                   canonical_smiles  \\\n",
              "0         CHEMBL243822                       Oc1ccc(CCc2ccc(O)c(O)c2O)cc1   \n",
              "1            CHEMBL734                                           CC(=O)NO   \n",
              "2         CHEMBL242739               O=c1c(-c2ccc(O)cc2)coc2c(O)c(O)ccc12   \n",
              "3         CHEMBL503157                    N=C(Cc1ccc(O)cc1)c1ccc(O)c(O)c1   \n",
              "4         CHEMBL412199                    NC(Cc1ccc(O)cc1)c1ccc(O)c(O)c1O   \n",
              "..                 ...                                                ...   \n",
              "249      CHEMBL4539240  CCC(CO)NC(=O)c1ccccc1[Se][Se]c1ccccc1C(=O)NC(C...   \n",
              "250      CHEMBL4461450  O=C(O)CCCNC(=O)c1ccccc1[Se][Se]c1ccccc1C(=O)NC...   \n",
              "251      CHEMBL4471428  COC(=O)CNC(=O)c1ccccc1[Se][Se]c1ccccc1C(=O)NCC...   \n",
              "252      CHEMBL4575318  COC(=O)CCCNC(=O)c1ccccc1[Se][Se]c1ccccc1C(=O)N...   \n",
              "253      CHEMBL1976884               O=C(O)c1ccccc1[Se][Se]c1ccccc1C(=O)O   \n",
              "\n",
              "       target     pIC50  \n",
              "0    inactive  4.522879  \n",
              "1    inactive  4.769551  \n",
              "2    inactive  3.853872  \n",
              "3    inactive  4.769551  \n",
              "4    inactive  4.327902  \n",
              "..        ...       ...  \n",
              "249  inactive  3.966576  \n",
              "250  inactive  4.450997  \n",
              "251  inactive  4.070581  \n",
              "252  inactive  4.696804  \n",
              "253  inactive  3.100179  \n",
              "\n",
              "[254 rows x 4 columns]"
            ],
            "text/html": [
              "\n",
              "  <div id=\"df-546151af-6e8f-47c6-a794-bafe46c92f1a\">\n",
              "    <div class=\"colab-df-container\">\n",
              "      <div>\n",
              "<style scoped>\n",
              "    .dataframe tbody tr th:only-of-type {\n",
              "        vertical-align: middle;\n",
              "    }\n",
              "\n",
              "    .dataframe tbody tr th {\n",
              "        vertical-align: top;\n",
              "    }\n",
              "\n",
              "    .dataframe thead th {\n",
              "        text-align: right;\n",
              "    }\n",
              "</style>\n",
              "<table border=\"1\" class=\"dataframe\">\n",
              "  <thead>\n",
              "    <tr style=\"text-align: right;\">\n",
              "      <th></th>\n",
              "      <th>molecule_chembl_id</th>\n",
              "      <th>canonical_smiles</th>\n",
              "      <th>target</th>\n",
              "      <th>pIC50</th>\n",
              "    </tr>\n",
              "  </thead>\n",
              "  <tbody>\n",
              "    <tr>\n",
              "      <th>0</th>\n",
              "      <td>CHEMBL243822</td>\n",
              "      <td>Oc1ccc(CCc2ccc(O)c(O)c2O)cc1</td>\n",
              "      <td>inactive</td>\n",
              "      <td>4.522879</td>\n",
              "    </tr>\n",
              "    <tr>\n",
              "      <th>1</th>\n",
              "      <td>CHEMBL734</td>\n",
              "      <td>CC(=O)NO</td>\n",
              "      <td>inactive</td>\n",
              "      <td>4.769551</td>\n",
              "    </tr>\n",
              "    <tr>\n",
              "      <th>2</th>\n",
              "      <td>CHEMBL242739</td>\n",
              "      <td>O=c1c(-c2ccc(O)cc2)coc2c(O)c(O)ccc12</td>\n",
              "      <td>inactive</td>\n",
              "      <td>3.853872</td>\n",
              "    </tr>\n",
              "    <tr>\n",
              "      <th>3</th>\n",
              "      <td>CHEMBL503157</td>\n",
              "      <td>N=C(Cc1ccc(O)cc1)c1ccc(O)c(O)c1</td>\n",
              "      <td>inactive</td>\n",
              "      <td>4.769551</td>\n",
              "    </tr>\n",
              "    <tr>\n",
              "      <th>4</th>\n",
              "      <td>CHEMBL412199</td>\n",
              "      <td>NC(Cc1ccc(O)cc1)c1ccc(O)c(O)c1O</td>\n",
              "      <td>inactive</td>\n",
              "      <td>4.327902</td>\n",
              "    </tr>\n",
              "    <tr>\n",
              "      <th>...</th>\n",
              "      <td>...</td>\n",
              "      <td>...</td>\n",
              "      <td>...</td>\n",
              "      <td>...</td>\n",
              "    </tr>\n",
              "    <tr>\n",
              "      <th>249</th>\n",
              "      <td>CHEMBL4539240</td>\n",
              "      <td>CCC(CO)NC(=O)c1ccccc1[Se][Se]c1ccccc1C(=O)NC(C...</td>\n",
              "      <td>inactive</td>\n",
              "      <td>3.966576</td>\n",
              "    </tr>\n",
              "    <tr>\n",
              "      <th>250</th>\n",
              "      <td>CHEMBL4461450</td>\n",
              "      <td>O=C(O)CCCNC(=O)c1ccccc1[Se][Se]c1ccccc1C(=O)NC...</td>\n",
              "      <td>inactive</td>\n",
              "      <td>4.450997</td>\n",
              "    </tr>\n",
              "    <tr>\n",
              "      <th>251</th>\n",
              "      <td>CHEMBL4471428</td>\n",
              "      <td>COC(=O)CNC(=O)c1ccccc1[Se][Se]c1ccccc1C(=O)NCC...</td>\n",
              "      <td>inactive</td>\n",
              "      <td>4.070581</td>\n",
              "    </tr>\n",
              "    <tr>\n",
              "      <th>252</th>\n",
              "      <td>CHEMBL4575318</td>\n",
              "      <td>COC(=O)CCCNC(=O)c1ccccc1[Se][Se]c1ccccc1C(=O)N...</td>\n",
              "      <td>inactive</td>\n",
              "      <td>4.696804</td>\n",
              "    </tr>\n",
              "    <tr>\n",
              "      <th>253</th>\n",
              "      <td>CHEMBL1976884</td>\n",
              "      <td>O=C(O)c1ccccc1[Se][Se]c1ccccc1C(=O)O</td>\n",
              "      <td>inactive</td>\n",
              "      <td>3.100179</td>\n",
              "    </tr>\n",
              "  </tbody>\n",
              "</table>\n",
              "<p>254 rows × 4 columns</p>\n",
              "</div>\n",
              "      <button class=\"colab-df-convert\" onclick=\"convertToInteractive('df-546151af-6e8f-47c6-a794-bafe46c92f1a')\"\n",
              "              title=\"Convert this dataframe to an interactive table.\"\n",
              "              style=\"display:none;\">\n",
              "        \n",
              "  <svg xmlns=\"http://www.w3.org/2000/svg\" height=\"24px\"viewBox=\"0 0 24 24\"\n",
              "       width=\"24px\">\n",
              "    <path d=\"M0 0h24v24H0V0z\" fill=\"none\"/>\n",
              "    <path d=\"M18.56 5.44l.94 2.06.94-2.06 2.06-.94-2.06-.94-.94-2.06-.94 2.06-2.06.94zm-11 1L8.5 8.5l.94-2.06 2.06-.94-2.06-.94L8.5 2.5l-.94 2.06-2.06.94zm10 10l.94 2.06.94-2.06 2.06-.94-2.06-.94-.94-2.06-.94 2.06-2.06.94z\"/><path d=\"M17.41 7.96l-1.37-1.37c-.4-.4-.92-.59-1.43-.59-.52 0-1.04.2-1.43.59L10.3 9.45l-7.72 7.72c-.78.78-.78 2.05 0 2.83L4 21.41c.39.39.9.59 1.41.59.51 0 1.02-.2 1.41-.59l7.78-7.78 2.81-2.81c.8-.78.8-2.07 0-2.86zM5.41 20L4 18.59l7.72-7.72 1.47 1.35L5.41 20z\"/>\n",
              "  </svg>\n",
              "      </button>\n",
              "      \n",
              "  <style>\n",
              "    .colab-df-container {\n",
              "      display:flex;\n",
              "      flex-wrap:wrap;\n",
              "      gap: 12px;\n",
              "    }\n",
              "\n",
              "    .colab-df-convert {\n",
              "      background-color: #E8F0FE;\n",
              "      border: none;\n",
              "      border-radius: 50%;\n",
              "      cursor: pointer;\n",
              "      display: none;\n",
              "      fill: #1967D2;\n",
              "      height: 32px;\n",
              "      padding: 0 0 0 0;\n",
              "      width: 32px;\n",
              "    }\n",
              "\n",
              "    .colab-df-convert:hover {\n",
              "      background-color: #E2EBFA;\n",
              "      box-shadow: 0px 1px 2px rgba(60, 64, 67, 0.3), 0px 1px 3px 1px rgba(60, 64, 67, 0.15);\n",
              "      fill: #174EA6;\n",
              "    }\n",
              "\n",
              "    [theme=dark] .colab-df-convert {\n",
              "      background-color: #3B4455;\n",
              "      fill: #D2E3FC;\n",
              "    }\n",
              "\n",
              "    [theme=dark] .colab-df-convert:hover {\n",
              "      background-color: #434B5C;\n",
              "      box-shadow: 0px 1px 3px 1px rgba(0, 0, 0, 0.15);\n",
              "      filter: drop-shadow(0px 1px 2px rgba(0, 0, 0, 0.3));\n",
              "      fill: #FFFFFF;\n",
              "    }\n",
              "  </style>\n",
              "\n",
              "      <script>\n",
              "        const buttonEl =\n",
              "          document.querySelector('#df-546151af-6e8f-47c6-a794-bafe46c92f1a button.colab-df-convert');\n",
              "        buttonEl.style.display =\n",
              "          google.colab.kernel.accessAllowed ? 'block' : 'none';\n",
              "\n",
              "        async function convertToInteractive(key) {\n",
              "          const element = document.querySelector('#df-546151af-6e8f-47c6-a794-bafe46c92f1a');\n",
              "          const dataTable =\n",
              "            await google.colab.kernel.invokeFunction('convertToInteractive',\n",
              "                                                     [key], {});\n",
              "          if (!dataTable) return;\n",
              "\n",
              "          const docLinkHtml = 'Like what you see? Visit the ' +\n",
              "            '<a target=\"_blank\" href=https://colab.research.google.com/notebooks/data_table.ipynb>data table notebook</a>'\n",
              "            + ' to learn more about interactive tables.';\n",
              "          element.innerHTML = '';\n",
              "          dataTable['output_type'] = 'display_data';\n",
              "          await google.colab.output.renderOutput(dataTable, element);\n",
              "          const docLink = document.createElement('div');\n",
              "          docLink.innerHTML = docLinkHtml;\n",
              "          element.appendChild(docLink);\n",
              "        }\n",
              "      </script>\n",
              "    </div>\n",
              "  </div>\n",
              "  "
            ]
          },
          "metadata": {},
          "execution_count": 31
        }
      ]
    },
    {
      "cell_type": "markdown",
      "metadata": {
        "id": "9tlgyexWh7YJ"
      },
      "source": [
        "Saves dataframe to CSV file"
      ]
    },
    {
      "cell_type": "code",
      "execution_count": 32,
      "metadata": {
        "id": "nSNia7suXstR"
      },
      "outputs": [],
      "source": [
        "df_final.to_csv('bioactivity_data_curated.csv', index=False)"
      ]
    },
    {
      "cell_type": "markdown",
      "source": [
        "\n",
        "\n",
        "---\n",
        "\n"
      ],
      "metadata": {
        "id": "5nQfnG4m2VMb"
      }
    }
  ],
  "metadata": {
    "colab": {
      "provenance": []
    },
    "kernelspec": {
      "display_name": "Python 3 (ipykernel)",
      "language": "python",
      "name": "python3"
    },
    "language_info": {
      "codemirror_mode": {
        "name": "ipython",
        "version": 3
      },
      "file_extension": ".py",
      "mimetype": "text/x-python",
      "name": "python",
      "nbconvert_exporter": "python",
      "pygments_lexer": "ipython3",
      "version": "3.11.3"
    }
  },
  "nbformat": 4,
  "nbformat_minor": 0
}